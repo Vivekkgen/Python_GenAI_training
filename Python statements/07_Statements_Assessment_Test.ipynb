{
  "cells": [
    {
      "cell_type": "markdown",
      "metadata": {
        "id": "view-in-github",
        "colab_type": "text"
      },
      "source": [
        "<a href=\"https://colab.research.google.com/github/Vivekkgen/Python_GenAI_training/blob/main/Python%20statements/07_Statements_Assessment_Test.ipynb\" target=\"_parent\"><img src=\"https://colab.research.google.com/assets/colab-badge.svg\" alt=\"Open In Colab\"/></a>"
      ]
    },
    {
      "cell_type": "markdown",
      "metadata": {
        "collapsed": true,
        "id": "VCZE8GDEhF8v"
      },
      "source": [
        "# Statements Assessment Test\n",
        "Let's test your knowledge!"
      ]
    },
    {
      "cell_type": "markdown",
      "metadata": {
        "id": "IvK7OnPNhF8v"
      },
      "source": [
        "_____\n",
        "**Use <code>for</code>, .split(), and <code>if</code> to create a Statement that will print out words that start with 's':**"
      ]
    },
    {
      "cell_type": "code",
      "execution_count": 3,
      "metadata": {
        "collapsed": true,
        "id": "cVRd598khF8w"
      },
      "outputs": [],
      "source": [
        "st = 'Print only the words that start with s in this sentence'"
      ]
    },
    {
      "cell_type": "code",
      "execution_count": 17,
      "metadata": {
        "collapsed": true,
        "colab": {
          "base_uri": "https://localhost:8080/"
        },
        "id": "RCXLQAffhF8x",
        "outputId": "93563fbf-3e5b-4f2d-d1d1-40bd00862a2c"
      },
      "outputs": [
        {
          "output_type": "execute_result",
          "data": {
            "text/plain": [
              "['start', 's', 'sentence']"
            ]
          },
          "metadata": {},
          "execution_count": 17
        }
      ],
      "source": [
        "words = st.split()\n",
        "word = []\n",
        "for str in words:\n",
        "  if 's' in str[0]:\n",
        "    word.append(str)\n",
        "\n",
        "word\n"
      ]
    },
    {
      "cell_type": "markdown",
      "metadata": {
        "id": "5lb3t6qPhF8x"
      },
      "source": [
        "______\n",
        "**Use range() to print all the even numbers from 0 to 10.**"
      ]
    },
    {
      "cell_type": "code",
      "execution_count": 19,
      "metadata": {
        "collapsed": true,
        "colab": {
          "base_uri": "https://localhost:8080/"
        },
        "id": "GPaFts2_hF8x",
        "outputId": "2f3f5ed6-87a3-4af9-d06d-2f7552e6ea29"
      },
      "outputs": [
        {
          "output_type": "execute_result",
          "data": {
            "text/plain": [
              "[0, 2, 4, 6, 8]"
            ]
          },
          "metadata": {},
          "execution_count": 19
        }
      ],
      "source": [
        "even_number = [num for num in range(0,10) if num%2 == 0]\n",
        "even_number"
      ]
    },
    {
      "cell_type": "markdown",
      "metadata": {
        "id": "OYr1IANEhF8x"
      },
      "source": [
        "___\n",
        "**Use a List Comprehension to create a list of all numbers between 1 and 50 that are divisible by 3.**"
      ]
    },
    {
      "cell_type": "code",
      "execution_count": 20,
      "metadata": {
        "collapsed": true,
        "colab": {
          "base_uri": "https://localhost:8080/"
        },
        "id": "lijr5n_QhF8x",
        "outputId": "079544f1-c880-40d0-e7c8-b4ceb42f02e5"
      },
      "outputs": [
        {
          "output_type": "execute_result",
          "data": {
            "text/plain": [
              "[3, 6, 9, 12, 15, 18, 21, 24, 27, 30, 33, 36, 39, 42, 45, 48]"
            ]
          },
          "metadata": {},
          "execution_count": 20
        }
      ],
      "source": [
        "#Code in this cell\n",
        "div_list = [num for num in range(1,50) if num%3==0]\n",
        "div_list"
      ]
    },
    {
      "cell_type": "markdown",
      "metadata": {
        "id": "-taiMUqKhF8x"
      },
      "source": [
        "_____\n",
        "**Go through the string below and if the length of a word is even print \"even!\"**"
      ]
    },
    {
      "cell_type": "code",
      "execution_count": 21,
      "metadata": {
        "collapsed": true,
        "id": "DGjTDCeThF8x"
      },
      "outputs": [],
      "source": [
        "st = 'Print every word in this sentence that has an even number of letters'"
      ]
    },
    {
      "cell_type": "code",
      "execution_count": 22,
      "metadata": {
        "collapsed": true,
        "colab": {
          "base_uri": "https://localhost:8080/"
        },
        "id": "bUlZJXMBhF8y",
        "outputId": "499ec54c-f40f-44e3-f95e-ce686c7a027a"
      },
      "outputs": [
        {
          "output_type": "stream",
          "name": "stdout",
          "text": [
            "word --> Even \n",
            "in --> Even \n",
            "this --> Even \n",
            "sentence --> Even \n",
            "that --> Even \n",
            "an --> Even \n",
            "even --> Even \n",
            "number --> Even \n",
            "of --> Even \n"
          ]
        }
      ],
      "source": [
        "words = st.split()\n",
        "for str in words:\n",
        "  if len(str)%2 == 0:\n",
        "    print(f\"{str} --> Even \")\n"
      ]
    },
    {
      "cell_type": "markdown",
      "metadata": {
        "id": "4S0_ouSthF8y"
      },
      "source": [
        "____\n",
        "**Write a program that prints the integers from 1 to 100. But for multiples of three print \"Fizz\" instead of the number, and for the multiples of five print \"Buzz\". For numbers which are multiples of both three and five print \"FizzBuzz\".**"
      ]
    },
    {
      "cell_type": "code",
      "execution_count": 25,
      "metadata": {
        "collapsed": true,
        "colab": {
          "base_uri": "https://localhost:8080/"
        },
        "id": "sjAs81DWhF8y",
        "outputId": "f69274cb-55f2-4c5f-8e69-a6347a6ced02"
      },
      "outputs": [
        {
          "output_type": "stream",
          "name": "stdout",
          "text": [
            "3 --> Fizz\n",
            "5 --> Buzz\n",
            "6 --> Fizz\n",
            "9 --> Fizz\n",
            "10 --> Buzz\n",
            "12 --> Fizz\n",
            "15 --> FizzBuzz\n",
            "18 --> Fizz\n",
            "20 --> Buzz\n",
            "21 --> Fizz\n",
            "24 --> Fizz\n",
            "25 --> Buzz\n",
            "27 --> Fizz\n",
            "30 --> FizzBuzz\n",
            "33 --> Fizz\n",
            "35 --> Buzz\n",
            "36 --> Fizz\n",
            "39 --> Fizz\n",
            "40 --> Buzz\n",
            "42 --> Fizz\n",
            "45 --> FizzBuzz\n",
            "48 --> Fizz\n",
            "50 --> Buzz\n",
            "51 --> Fizz\n",
            "54 --> Fizz\n",
            "55 --> Buzz\n",
            "57 --> Fizz\n",
            "60 --> FizzBuzz\n",
            "63 --> Fizz\n",
            "65 --> Buzz\n",
            "66 --> Fizz\n",
            "69 --> Fizz\n",
            "70 --> Buzz\n",
            "72 --> Fizz\n",
            "75 --> FizzBuzz\n",
            "78 --> Fizz\n",
            "80 --> Buzz\n",
            "81 --> Fizz\n",
            "84 --> Fizz\n",
            "85 --> Buzz\n",
            "87 --> Fizz\n",
            "90 --> FizzBuzz\n",
            "93 --> Fizz\n",
            "95 --> Buzz\n",
            "96 --> Fizz\n",
            "99 --> Fizz\n"
          ]
        }
      ],
      "source": [
        "for num in range(1,100):\n",
        "  if num%3 == 0 and num%5 == 0:\n",
        "    print(f\"{num} --> FizzBuzz\")\n",
        "    continue\n",
        "  elif num%3 == 0:\n",
        "    print(f\"{num} --> Fizz\")\n",
        "    continue\n",
        "  elif num%5 == 0:\n",
        "    print(f\"{num} --> Buzz\")\n",
        "    continue"
      ]
    },
    {
      "cell_type": "markdown",
      "metadata": {
        "id": "mScINrkUhF8y"
      },
      "source": [
        "____\n",
        "**Use List Comprehension to create a list of the first letters of every word in the string below:**"
      ]
    },
    {
      "cell_type": "code",
      "execution_count": 26,
      "metadata": {
        "collapsed": true,
        "id": "wEncT10NhF8y"
      },
      "outputs": [],
      "source": [
        "st = 'Create a list of the first letters of every word in this string'"
      ]
    },
    {
      "cell_type": "code",
      "execution_count": 27,
      "metadata": {
        "collapsed": true,
        "colab": {
          "base_uri": "https://localhost:8080/"
        },
        "id": "tqhXoW36hF8y",
        "outputId": "807722cb-1b76-49cd-c659-1c0ad4382b54"
      },
      "outputs": [
        {
          "output_type": "execute_result",
          "data": {
            "text/plain": [
              "['C', 'a', 'l', 'o', 't', 'f', 'l', 'o', 'e', 'w', 'i', 't', 's']"
            ]
          },
          "metadata": {},
          "execution_count": 27
        }
      ],
      "source": [
        "words = st.split()\n",
        "first_letter = [letter[0] for letter in words]\n",
        "first_letter"
      ]
    },
    {
      "cell_type": "markdown",
      "metadata": {
        "id": "avSbYiRahF8z"
      },
      "source": [
        "### Great Job!"
      ]
    }
  ],
  "metadata": {
    "kernelspec": {
      "display_name": "Python 3",
      "language": "python",
      "name": "python3"
    },
    "language_info": {
      "codemirror_mode": {
        "name": "ipython",
        "version": 3
      },
      "file_extension": ".py",
      "mimetype": "text/x-python",
      "name": "python",
      "nbconvert_exporter": "python",
      "pygments_lexer": "ipython3",
      "version": "3.6.6"
    },
    "colab": {
      "provenance": [],
      "include_colab_link": true
    }
  },
  "nbformat": 4,
  "nbformat_minor": 0
}