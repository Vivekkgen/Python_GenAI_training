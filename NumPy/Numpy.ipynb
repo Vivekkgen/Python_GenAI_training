{
  "nbformat": 4,
  "nbformat_minor": 0,
  "metadata": {
    "colab": {
      "provenance": [],
      "authorship_tag": "ABX9TyM6687dBW6q798j0Rl/Xq7h",
      "include_colab_link": true
    },
    "kernelspec": {
      "name": "python3",
      "display_name": "Python 3"
    },
    "language_info": {
      "name": "python"
    }
  },
  "cells": [
    {
      "cell_type": "markdown",
      "metadata": {
        "id": "view-in-github",
        "colab_type": "text"
      },
      "source": [
        "<a href=\"https://colab.research.google.com/github/Vivekkgen/Python_GenAI_training/blob/main/NumPy/Numpy.ipynb\" target=\"_parent\"><img src=\"https://colab.research.google.com/assets/colab-badge.svg\" alt=\"Open In Colab\"/></a>"
      ]
    },
    {
      "cell_type": "code",
      "execution_count": 2,
      "metadata": {
        "colab": {
          "base_uri": "https://localhost:8080/"
        },
        "id": "MIL9Atnmsgst",
        "outputId": "83ad8c0a-16a5-4b6f-c415-8b6df7d03f69"
      },
      "outputs": [
        {
          "output_type": "stream",
          "name": "stdout",
          "text": [
            "[1 2 3 4]\n",
            "<class 'numpy.ndarray'>\n"
          ]
        }
      ],
      "source": [
        "import numpy as np\n",
        "# To create a NumPy array, you can use the function np.array(). np is alias of numpy library.\n",
        "x = np.array([1,2,3,4])\n",
        "print(x)\n",
        "print(type(x))"
      ]
    },
    {
      "cell_type": "code",
      "source": [
        "#list\n",
        "y = [1,2,3,4]\n",
        "print(y)\n",
        "print(type(y))"
      ],
      "metadata": {
        "colab": {
          "base_uri": "https://localhost:8080/"
        },
        "id": "iEPiQAxQvL4K",
        "outputId": "24cb6d89-bcb9-4b15-969a-ab1007acb5a4"
      },
      "execution_count": null,
      "outputs": [
        {
          "output_type": "stream",
          "name": "stdout",
          "text": [
            "[1, 2, 3, 4]\n",
            "<class 'list'>\n"
          ]
        }
      ]
    },
    {
      "cell_type": "code",
      "source": [
        "# difference between numpy array and python list by time\n",
        "#list:-\n",
        "%timeit [j**4 for j in range(1,9)]"
      ],
      "metadata": {
        "colab": {
          "base_uri": "https://localhost:8080/"
        },
        "id": "HGMFonm8vygi",
        "outputId": "f2157ed4-8fef-4b44-9a86-e2bf376e8a67"
      },
      "execution_count": null,
      "outputs": [
        {
          "output_type": "stream",
          "name": "stdout",
          "text": [
            "2.63 µs ± 51 ns per loop (mean ± std. dev. of 7 runs, 100000 loops each)\n"
          ]
        }
      ]
    },
    {
      "cell_type": "code",
      "source": [
        "#array\n",
        "%timeit np.arange(1,9)**4"
      ],
      "metadata": {
        "colab": {
          "base_uri": "https://localhost:8080/"
        },
        "id": "DzR4WWiCxu5I",
        "outputId": "0f3134ff-53ad-4b47-8c3c-3acb1602090e"
      },
      "execution_count": null,
      "outputs": [
        {
          "output_type": "stream",
          "name": "stdout",
          "text": [
            "4.49 µs ± 1.45 µs per loop (mean ± std. dev. of 7 runs, 100000 loops each)\n"
          ]
        }
      ]
    },
    {
      "cell_type": "markdown",
      "source": [
        "# Array\n"
      ],
      "metadata": {
        "id": "Cn76AIKCzfsY"
      }
    },
    {
      "cell_type": "code",
      "source": [
        "import numpy as np\n",
        "\n",
        "x = [1,2,3,4,5]\n",
        "\n",
        "y = np.array(x)\n",
        "# y = np.array([1,2,3,4,5])\n",
        "\n",
        "print(y)\n",
        "print(type(y))"
      ],
      "metadata": {
        "colab": {
          "base_uri": "https://localhost:8080/"
        },
        "id": "tgaCobQLzjsX",
        "outputId": "e8c5c4af-6473-43c1-9c3e-93542260ccf7"
      },
      "execution_count": null,
      "outputs": [
        {
          "output_type": "stream",
          "name": "stdout",
          "text": [
            "[1 2 3 4 5]\n",
            "<class 'numpy.ndarray'>\n"
          ]
        }
      ]
    },
    {
      "cell_type": "code",
      "source": [
        "l = []\n",
        "\n",
        "for i in range(1,5):\n",
        "  int_1 = int(input(\"enter the numbers:-\"))\n",
        "  l.append(int_1)\n",
        "print(np.array(l))\n"
      ],
      "metadata": {
        "colab": {
          "base_uri": "https://localhost:8080/"
        },
        "id": "t_x55GmQz1gm",
        "outputId": "4ea911b8-0b81-4991-ae79-c37d49540992"
      },
      "execution_count": null,
      "outputs": [
        {
          "output_type": "stream",
          "name": "stdout",
          "text": [
            "enter the numbers:-1\n",
            "enter the numbers:-2\n",
            "enter the numbers:-3\n",
            "enter the numbers:-4\n",
            "[1 2 3 4]\n"
          ]
        }
      ]
    },
    {
      "cell_type": "markdown",
      "source": [
        "# Dimensions in Array:-\n",
        "> 1-D Array -->  [1,2,3,4]\n",
        "\n",
        "> 2-D Array -->  [[1,2,3,4]]\n",
        "\n",
        "> 3-D Array -->  [[[1,2,3,4]]]\n",
        "\n",
        "> Higher Dimensional Array\n",
        "\n",
        "* To find the dimensions of array we have to use \"ndim\" function."
      ],
      "metadata": {
        "id": "bGjSgmwn1nbr"
      }
    },
    {
      "cell_type": "code",
      "source": [
        "import numpy as np\n",
        "\n",
        "x = [1,2,3,4,5]\n",
        "\n",
        "y = np.array(x)\n",
        "# y = np.array([1,2,3,4,5])\n",
        "\n",
        "print(y)\n",
        "print(type(y))\n",
        "#dimensions\n",
        "print(y.ndim)"
      ],
      "metadata": {
        "colab": {
          "base_uri": "https://localhost:8080/"
        },
        "id": "Snq9EC6j2hkS",
        "outputId": "e012b9be-18d9-4624-da73-fc197aa01a03"
      },
      "execution_count": null,
      "outputs": [
        {
          "output_type": "stream",
          "name": "stdout",
          "text": [
            "[1 2 3 4 5]\n",
            "<class 'numpy.ndarray'>\n",
            "1\n"
          ]
        }
      ]
    },
    {
      "cell_type": "code",
      "source": [
        "ar2 = np.array([[1,2,3,4],[1,2,3,4]])\n",
        "print(ar2)\n",
        "print(ar2.ndim)"
      ],
      "metadata": {
        "colab": {
          "base_uri": "https://localhost:8080/"
        },
        "id": "yDPpW703207m",
        "outputId": "ddadebe6-5830-40d8-a07e-c86359ecc96a"
      },
      "execution_count": null,
      "outputs": [
        {
          "output_type": "stream",
          "name": "stdout",
          "text": [
            "[[1 2 3 4]\n",
            " [1 2 3 4]]\n",
            "2\n"
          ]
        }
      ]
    },
    {
      "cell_type": "code",
      "source": [
        "ar3 = np.array([[[1,2,3,4],[1,2,3,4],[1,2,3,4]]])\n",
        "print(ar3)\n",
        "print(ar3.ndim)"
      ],
      "metadata": {
        "colab": {
          "base_uri": "https://localhost:8080/"
        },
        "id": "wwJSBXoc3iUk",
        "outputId": "3628fce5-7d69-45e8-ce5a-0c265c007c35"
      },
      "execution_count": null,
      "outputs": [
        {
          "output_type": "stream",
          "name": "stdout",
          "text": [
            "[[[1 2 3 4]\n",
            "  [1 2 3 4]\n",
            "  [1 2 3 4]]]\n",
            "3\n"
          ]
        }
      ]
    },
    {
      "cell_type": "code",
      "source": [
        "# To create the 10 dimensions array\n",
        "ar10 = np.array([1,2,3,4],ndmin = 10)\n",
        "print(ar10)\n",
        "print(ar10.ndim)"
      ],
      "metadata": {
        "colab": {
          "base_uri": "https://localhost:8080/"
        },
        "id": "cX5fnl4s3_nF",
        "outputId": "329fe6c1-d6e2-4945-b5bb-a4b029173f4e"
      },
      "execution_count": null,
      "outputs": [
        {
          "output_type": "stream",
          "name": "stdout",
          "text": [
            "[[[[[[[[[[1 2 3 4]]]]]]]]]]\n",
            "10\n"
          ]
        }
      ]
    },
    {
      "cell_type": "markdown",
      "source": [
        "# Spacial NumPy Array\n",
        "* Array filled with 0's\n",
        "* Array filled with 1's\n",
        "* Create an empty array\n",
        "* An arry with a range of elements\n",
        "* Array diagonal element filled with 1's\n",
        "* Create an array with values that are spaced linearly in a specified interval."
      ],
      "metadata": {
        "id": "XUiqIpDS5hSC"
      }
    },
    {
      "cell_type": "code",
      "source": [
        "# Array filled with 0's\n",
        "ar_zero = np.zeros(4)\n",
        "ar_zero1 = np.zeros((3,4))\n",
        "print(ar_zero)\n",
        "print()\n",
        "print(ar_zero1)"
      ],
      "metadata": {
        "colab": {
          "base_uri": "https://localhost:8080/"
        },
        "id": "A8jjCmnw6M3O",
        "outputId": "4a805712-9798-4de2-ecc7-3d54af1c0227"
      },
      "execution_count": null,
      "outputs": [
        {
          "output_type": "stream",
          "name": "stdout",
          "text": [
            "[0. 0. 0. 0.]\n",
            "\n",
            "[[0. 0. 0. 0.]\n",
            " [0. 0. 0. 0.]\n",
            " [0. 0. 0. 0.]]\n"
          ]
        }
      ]
    },
    {
      "cell_type": "code",
      "source": [
        "#Array filled with 1's\n",
        "ar_one = np.ones(4)\n",
        "\n",
        "print(ar_one)"
      ],
      "metadata": {
        "colab": {
          "base_uri": "https://localhost:8080/"
        },
        "id": "AndqFcL96g46",
        "outputId": "4a24dffe-b391-437b-8423-77a8ef1c1ba3"
      },
      "execution_count": null,
      "outputs": [
        {
          "output_type": "stream",
          "name": "stdout",
          "text": [
            "[1. 1. 1. 1.]\n"
          ]
        }
      ]
    },
    {
      "cell_type": "code",
      "source": [
        "#Create an empty array\n",
        "ar_em = np.empty(4)\n",
        "\n",
        "print(ar_em)"
      ],
      "metadata": {
        "colab": {
          "base_uri": "https://localhost:8080/"
        },
        "id": "LWY6lAQBWFxr",
        "outputId": "22e34a20-1029-4021-c54b-0a165cdd9962"
      },
      "execution_count": null,
      "outputs": [
        {
          "output_type": "stream",
          "name": "stdout",
          "text": [
            "[1. 1. 1. 1.]\n"
          ]
        }
      ]
    },
    {
      "cell_type": "code",
      "source": [
        "#An arry with a range of elements\n",
        "ar_rn = np.arange(4)\n",
        "print(ar_rn)"
      ],
      "metadata": {
        "colab": {
          "base_uri": "https://localhost:8080/"
        },
        "id": "n1kQMlODWm2Y",
        "outputId": "40f88962-c46a-4492-cea3-f1e415c2d395"
      },
      "execution_count": null,
      "outputs": [
        {
          "output_type": "stream",
          "name": "stdout",
          "text": [
            "[0 1 2 3]\n"
          ]
        }
      ]
    },
    {
      "cell_type": "code",
      "source": [
        "#Array diagonal element filled with 1's\n",
        "ar_dia = np.eye(3)\n",
        "print(ar_dia)"
      ],
      "metadata": {
        "colab": {
          "base_uri": "https://localhost:8080/"
        },
        "id": "aaLSylMbW2F0",
        "outputId": "3b2d7c73-91c6-48bc-9576-79faf2081899"
      },
      "execution_count": null,
      "outputs": [
        {
          "output_type": "stream",
          "name": "stdout",
          "text": [
            "[[1. 0. 0.]\n",
            " [0. 1. 0.]\n",
            " [0. 0. 1.]]\n"
          ]
        }
      ]
    },
    {
      "cell_type": "code",
      "source": [
        "ar_dia = np.eye(3,5)\n",
        "print(ar_dia)"
      ],
      "metadata": {
        "colab": {
          "base_uri": "https://localhost:8080/"
        },
        "id": "5hDwlq9uXWB7",
        "outputId": "c6af2cce-45f3-49f1-b432-38d51bbcdf44"
      },
      "execution_count": null,
      "outputs": [
        {
          "output_type": "stream",
          "name": "stdout",
          "text": [
            "[[1. 0. 0. 0. 0.]\n",
            " [0. 1. 0. 0. 0.]\n",
            " [0. 0. 1. 0. 0.]]\n"
          ]
        }
      ]
    },
    {
      "cell_type": "code",
      "source": [
        "# Create an array with values that are spaced linearly in a specified interval.\n",
        "#linspace\n",
        "ar_lin = np.linspace(0,20,num=5)\n",
        "print(ar_lin)"
      ],
      "metadata": {
        "colab": {
          "base_uri": "https://localhost:8080/"
        },
        "id": "-9vukqYzXcZH",
        "outputId": "e469fc98-b11d-4361-d6ec-5c5ca8eebede"
      },
      "execution_count": null,
      "outputs": [
        {
          "output_type": "stream",
          "name": "stdout",
          "text": [
            "[ 0.  5. 10. 15. 20.]\n"
          ]
        }
      ]
    },
    {
      "cell_type": "markdown",
      "source": [
        "# Random Numbers:\n",
        "```\n",
        "Create NumPy Arrays with Random numbers\n",
        "```\n",
        "* rand() -> the function is used to generate a random value between 0 to 1.\n",
        "* randn() -> the function is used to generate a random value close to zero.\n",
        "This may return +ve or negatives as well.\n",
        "* ranf() -> the function for doing random sampling in numpy. It returns an array of specified shape and fills it with random floats in the half open intervals [0.0, 1.0).\n",
        "* randint() -> the function is used to generate a random number between given range.\n"
      ],
      "metadata": {
        "id": "i6Y4ud7vYwXn"
      }
    },
    {
      "cell_type": "code",
      "source": [
        "#rand():-\n",
        "var = np.random.rand(4)\n",
        "print(var)"
      ],
      "metadata": {
        "colab": {
          "base_uri": "https://localhost:8080/"
        },
        "id": "ZGEhjaPGaf2A",
        "outputId": "897fd4c2-5fd9-4e81-e566-b9d5aae6903d"
      },
      "execution_count": null,
      "outputs": [
        {
          "output_type": "stream",
          "name": "stdout",
          "text": [
            "[0.61021767 0.00667378 0.43777682 0.84119571]\n"
          ]
        }
      ]
    },
    {
      "cell_type": "code",
      "source": [
        "var1 = np.random.rand(2,5)\n",
        "print(var1)"
      ],
      "metadata": {
        "colab": {
          "base_uri": "https://localhost:8080/"
        },
        "id": "s5UHOc07bBWU",
        "outputId": "377b7bdb-6539-46bd-bd6a-aa19ca177ebf"
      },
      "execution_count": null,
      "outputs": [
        {
          "output_type": "stream",
          "name": "stdout",
          "text": [
            "[[0.05379275 0.97537655 0.63218268 0.46024114 0.4233837 ]\n",
            " [0.05352201 0.98359333 0.31035229 0.01813903 0.66775128]]\n"
          ]
        }
      ]
    },
    {
      "cell_type": "code",
      "source": [
        "#randn():-\n",
        "var2 = np.random.randn(5)\n",
        "\n",
        "print(var2)"
      ],
      "metadata": {
        "colab": {
          "base_uri": "https://localhost:8080/"
        },
        "id": "eb4NNlqDbgHz",
        "outputId": "30f78393-7e80-4f86-acf7-84c7c2dfc79f"
      },
      "execution_count": null,
      "outputs": [
        {
          "output_type": "stream",
          "name": "stdout",
          "text": [
            "[-0.27839212 -0.61376283 -0.5533879   0.18269372 -0.37649382]\n"
          ]
        }
      ]
    },
    {
      "cell_type": "code",
      "source": [
        "#ranf():-\n",
        "var3 = np.random.ranf(4)\n",
        "print(var3)"
      ],
      "metadata": {
        "colab": {
          "base_uri": "https://localhost:8080/"
        },
        "id": "1iRKk1TgcHC_",
        "outputId": "9d3e6d5e-c781-4223-ac5f-ab88756a84f6"
      },
      "execution_count": null,
      "outputs": [
        {
          "output_type": "stream",
          "name": "stdout",
          "text": [
            "[0.07518504 0.13610638 0.52984423 0.21431761]\n"
          ]
        }
      ]
    },
    {
      "cell_type": "code",
      "source": [
        "#randint():-\n",
        "#var4 = np.random.randint(min,max,total_values)\n",
        "var4 = np.random.randint(5,20,5)\n",
        "print(var4)"
      ],
      "metadata": {
        "colab": {
          "base_uri": "https://localhost:8080/"
        },
        "id": "V5v2SL8LcdoT",
        "outputId": "142c112b-f37d-4d8f-e686-77392d7a4ee0"
      },
      "execution_count": null,
      "outputs": [
        {
          "output_type": "stream",
          "name": "stdout",
          "text": [
            "[12  5  5 18  9]\n"
          ]
        }
      ]
    },
    {
      "cell_type": "markdown",
      "source": [
        "# Data Types in NumPy Arrays"
      ],
      "metadata": {
        "id": "PRRTqvrjpvJy"
      }
    },
    {
      "cell_type": "code",
      "source": [
        "var = np.array([1,2,3,4,12,13,15])\n",
        "print(\"Data Type : \",var.dtype)"
      ],
      "metadata": {
        "colab": {
          "base_uri": "https://localhost:8080/"
        },
        "id": "WiknzfDIp4p6",
        "outputId": "4c09b6fa-bca5-4417-fa13-4cdd9283391b"
      },
      "execution_count": null,
      "outputs": [
        {
          "output_type": "stream",
          "name": "stdout",
          "text": [
            "Data Type :  int64\n"
          ]
        }
      ]
    },
    {
      "cell_type": "code",
      "source": [
        "var = np.array([1.0,1.2,1.3])\n",
        "print(\"Date Type :\",var.dtype)"
      ],
      "metadata": {
        "colab": {
          "base_uri": "https://localhost:8080/"
        },
        "id": "60izNw8DqmEg",
        "outputId": "1944876a-e8a6-401d-997b-672332358685"
      },
      "execution_count": null,
      "outputs": [
        {
          "output_type": "stream",
          "name": "stdout",
          "text": [
            "Date Type : float64\n"
          ]
        }
      ]
    },
    {
      "cell_type": "code",
      "source": [
        "var = np.array([\"A\",\"S\",\"D\",\"F\",1,2,3,4])\n",
        "print(\"Date Type :\",var.dtype)"
      ],
      "metadata": {
        "colab": {
          "base_uri": "https://localhost:8080/"
        },
        "id": "yhdpTlp4rPSG",
        "outputId": "afd6aed8-b2f2-4d10-84d6-bb2863da5657"
      },
      "execution_count": null,
      "outputs": [
        {
          "output_type": "stream",
          "name": "stdout",
          "text": [
            "Date Type : <U21\n"
          ]
        }
      ]
    },
    {
      "cell_type": "code",
      "source": [
        "# change the datatype\n",
        "var = np.array([1,2,3,4,12,13,15], dtype=np.int8)\n",
        "print(\"Data Type : \",var.dtype)\n",
        "print(var)"
      ],
      "metadata": {
        "colab": {
          "base_uri": "https://localhost:8080/"
        },
        "id": "c3asiYQPtmKK",
        "outputId": "08b35238-f72f-427e-8074-63fcc5a4fb1d"
      },
      "execution_count": null,
      "outputs": [
        {
          "output_type": "stream",
          "name": "stdout",
          "text": [
            "Data Type :  int8\n",
            "[ 1  2  3  4 12 13 15]\n"
          ]
        }
      ]
    },
    {
      "cell_type": "code",
      "source": [
        "var = np.array([1,2,3,4,12,13,15], dtype=\"f\")\n",
        "print(\"Data Type : \",var.dtype)\n",
        "print(var)"
      ],
      "metadata": {
        "colab": {
          "base_uri": "https://localhost:8080/"
        },
        "id": "6WuvHLuuuL9U",
        "outputId": "8591675a-24a3-442c-a263-b9688dffed24"
      },
      "execution_count": null,
      "outputs": [
        {
          "output_type": "stream",
          "name": "stdout",
          "text": [
            "Data Type :  float32\n",
            "[ 1.  2.  3.  4. 12. 13. 15.]\n"
          ]
        }
      ]
    },
    {
      "cell_type": "code",
      "source": [
        "var2 = np.array([1,2,3,4,12,13,15])\n",
        "\n",
        "new = np.float32(var2)\n",
        "\n",
        "print(\"Data Type : \",var2.dtype)\n",
        "print(\"Data Type : \",new.dtype)\n",
        "print(var2)\n",
        "print(new)"
      ],
      "metadata": {
        "colab": {
          "base_uri": "https://localhost:8080/"
        },
        "id": "-MKEUVpFuj5G",
        "outputId": "03100399-9beb-4547-d56e-a83e1bb2f9a1"
      },
      "execution_count": null,
      "outputs": [
        {
          "output_type": "stream",
          "name": "stdout",
          "text": [
            "Data Type :  int64\n",
            "Data Type :  float32\n",
            "[ 1  2  3  4 12 13 15]\n",
            "[ 1.  2.  3.  4. 12. 13. 15.]\n"
          ]
        }
      ]
    },
    {
      "cell_type": "code",
      "source": [
        "x2 = np.array([1,2,3,4,12,13,15])\n",
        "\n",
        "new = np.float32(x2)\n",
        "\n",
        "new_one = np.int_(new)\n",
        "\n",
        "print(\"Data Type : \",x2.dtype)\n",
        "print(\"Data Type : \",new.dtype)\n",
        "print(\"Data Type : \",new_one.dtype)\n",
        "print(x2)\n",
        "print(new)\n",
        "print(new_one)"
      ],
      "metadata": {
        "colab": {
          "base_uri": "https://localhost:8080/"
        },
        "id": "LStRQe9tuvEj",
        "outputId": "172a702b-9ddc-4023-ed31-954221a8dfb7"
      },
      "execution_count": null,
      "outputs": [
        {
          "output_type": "stream",
          "name": "stdout",
          "text": [
            "Data Type :  int64\n",
            "Data Type :  float32\n",
            "Data Type :  int64\n",
            "[ 1  2  3  4 12 13 15]\n",
            "[ 1.  2.  3.  4. 12. 13. 15.]\n",
            "[ 1  2  3  4 12 13 15]\n"
          ]
        }
      ]
    },
    {
      "cell_type": "code",
      "source": [
        "x3 = np.array([1,2,3,4])\n",
        "\n",
        "new_1 = x3.astype(float)\n",
        "\n",
        "print(x3)\n",
        "print(new_1)"
      ],
      "metadata": {
        "colab": {
          "base_uri": "https://localhost:8080/"
        },
        "id": "NeRZw5Gqv5Bl",
        "outputId": "39c1a720-fe69-43d8-aa53-6ab443dc41d7"
      },
      "execution_count": null,
      "outputs": [
        {
          "output_type": "stream",
          "name": "stdout",
          "text": [
            "[1 2 3 4]\n",
            "[1. 2. 3. 4.]\n"
          ]
        }
      ]
    },
    {
      "cell_type": "code",
      "source": [],
      "metadata": {
        "id": "r4xrgDA4w_kn"
      },
      "execution_count": null,
      "outputs": []
    },
    {
      "cell_type": "markdown",
      "source": [
        "# Arithmetic Operation"
      ],
      "metadata": {
        "id": "6maJcjZSxmXV"
      }
    },
    {
      "cell_type": "code",
      "source": [
        "v = np.array([1,2,3,4])\n",
        "vadd = v + 3\n",
        "\n",
        "print(vadd)"
      ],
      "metadata": {
        "colab": {
          "base_uri": "https://localhost:8080/"
        },
        "id": "NZ939n2JxrZb",
        "outputId": "f43776b3-7ac2-4cf9-8308-e705fa67f2ac"
      },
      "execution_count": null,
      "outputs": [
        {
          "output_type": "stream",
          "name": "stdout",
          "text": [
            "[4 5 6 7]\n"
          ]
        }
      ]
    },
    {
      "cell_type": "code",
      "source": [
        "var1 = np.array([1,2,3,4])\n",
        "var2 = np.array([1,2,3,4])\n",
        "\n",
        "varadd = var1 + var2\n",
        "\n",
        "print(varadd)"
      ],
      "metadata": {
        "colab": {
          "base_uri": "https://localhost:8080/"
        },
        "id": "05tqG7wex3Wv",
        "outputId": "64302459-531c-43c4-99e3-02731de54a2d"
      },
      "execution_count": null,
      "outputs": [
        {
          "output_type": "stream",
          "name": "stdout",
          "text": [
            "[2 4 6 8]\n"
          ]
        }
      ]
    },
    {
      "cell_type": "code",
      "source": [
        "v = np.array([1,2,3,4])\n",
        "vdiv = v / 3\n",
        "\n",
        "print(vdiv)"
      ],
      "metadata": {
        "colab": {
          "base_uri": "https://localhost:8080/"
        },
        "id": "fkmfiyJFyLCv",
        "outputId": "6bea66ca-90be-4d09-b659-c7b35b92bd55"
      },
      "execution_count": null,
      "outputs": [
        {
          "output_type": "stream",
          "name": "stdout",
          "text": [
            "[0.33333333 0.66666667 1.         1.33333333]\n"
          ]
        }
      ]
    },
    {
      "cell_type": "code",
      "source": [
        "v = np.array([1,2,3,4])\n",
        "vdiv = v % 3\n",
        "\n",
        "print(vdiv)"
      ],
      "metadata": {
        "colab": {
          "base_uri": "https://localhost:8080/"
        },
        "id": "2FotG8aOyYQ4",
        "outputId": "c58b9c96-1804-4d98-a325-0b2c5f13ffb9"
      },
      "execution_count": null,
      "outputs": [
        {
          "output_type": "stream",
          "name": "stdout",
          "text": [
            "[1 2 0 1]\n"
          ]
        }
      ]
    },
    {
      "cell_type": "code",
      "source": [
        "# 2D array"
      ],
      "metadata": {
        "id": "U7nmGCFDzMLY"
      },
      "execution_count": null,
      "outputs": []
    },
    {
      "cell_type": "code",
      "source": [
        "var21 = np.array([[1,2,3,4],[1,2,3,4]])\n",
        "var22 = np.array([[1,2,3,4],[1,2,3,4]])\n",
        "\n",
        "varadd2 = var21 + var22\n",
        "print(varadd2)"
      ],
      "metadata": {
        "colab": {
          "base_uri": "https://localhost:8080/"
        },
        "id": "6dkASMGjzRqK",
        "outputId": "adec75ba-5ab9-44c3-80ae-52b0505786b5"
      },
      "execution_count": null,
      "outputs": [
        {
          "output_type": "stream",
          "name": "stdout",
          "text": [
            "[[2 4 6 8]\n",
            " [2 4 6 8]]\n"
          ]
        }
      ]
    },
    {
      "cell_type": "markdown",
      "source": [
        "# Arithmetic Functions"
      ],
      "metadata": {
        "id": "fHfNZjCQ1eJv"
      }
    },
    {
      "cell_type": "code",
      "source": [
        "var = np.array([3,2,1,4,5,3,2])\n",
        "print(\"min : \",np.min(var),np.argmin(var))\n",
        "print(\"max : \",np.max(var),np.argmax(var))\n",
        "print(\"sqrt :\",np.sqrt(var))\n",
        "#np.argmax(var) --> return the position of that max element"
      ],
      "metadata": {
        "colab": {
          "base_uri": "https://localhost:8080/"
        },
        "id": "EtZPoO8S1ir_",
        "outputId": "2097ebdf-23f1-45a7-925c-699e285b4730"
      },
      "execution_count": 3,
      "outputs": [
        {
          "output_type": "stream",
          "name": "stdout",
          "text": [
            "min :  1 2\n",
            "max :  5 4\n",
            "sqrt : [1.73205081 1.41421356 1.         2.         2.23606798 1.73205081\n",
            " 1.41421356]\n"
          ]
        }
      ]
    },
    {
      "cell_type": "code",
      "source": [
        "var1 = np.array([[2,1,3],[9,5,6]])\n",
        "print(np.min(var1,axis=0))\n",
        "# axis=0 --> evaluate the column elements\n",
        "# axis=1 --> evaluate the row elements"
      ],
      "metadata": {
        "id": "4KxaOiQx2AM3",
        "colab": {
          "base_uri": "https://localhost:8080/"
        },
        "outputId": "1b642718-88ce-4ff3-ba83-325e9db9bd34"
      },
      "execution_count": 6,
      "outputs": [
        {
          "output_type": "stream",
          "name": "stdout",
          "text": [
            "[2 1 3]\n"
          ]
        }
      ]
    },
    {
      "cell_type": "code",
      "source": [
        "var2 = np.array([1,2,3])\n",
        "print(np.sin(var2))\n",
        "print(np.cos(var2))\n",
        "print(np.cumsum(var2))"
      ],
      "metadata": {
        "colab": {
          "base_uri": "https://localhost:8080/"
        },
        "id": "YiINolYKG8-s",
        "outputId": "d65946bd-4c74-4d40-f013-8d9545db90d6"
      },
      "execution_count": 8,
      "outputs": [
        {
          "output_type": "stream",
          "name": "stdout",
          "text": [
            "[0.84147098 0.90929743 0.14112001]\n",
            "[ 0.54030231 -0.41614684 -0.9899925 ]\n",
            "[1 3 6]\n"
          ]
        }
      ]
    },
    {
      "cell_type": "code",
      "source": [
        "#np.cumsum(x) --> x = [1 2 3]\n",
        "#                      |\\/ / +\n",
        "#               o/p = [1 3 6]"
      ],
      "metadata": {
        "id": "cp7hnGlGLfZY"
      },
      "execution_count": 9,
      "outputs": []
    },
    {
      "cell_type": "markdown",
      "source": [
        "# Shape & Reshaping"
      ],
      "metadata": {
        "id": "aWQYxWrMM0_x"
      }
    },
    {
      "cell_type": "code",
      "source": [
        "var = np.array([[1,2,3,4],[1,2,3,4]])\n",
        "print(var)\n",
        "print()\n",
        "print(var.shape)\n"
      ],
      "metadata": {
        "colab": {
          "base_uri": "https://localhost:8080/"
        },
        "id": "Zbwtk1hhM8sM",
        "outputId": "cdd95b37-71ed-4571-f4dd-c9ee4b8a6bf5"
      },
      "execution_count": 10,
      "outputs": [
        {
          "output_type": "stream",
          "name": "stdout",
          "text": [
            "[[1 2 3 4]\n",
            " [1 2 3 4]]\n",
            "\n",
            "(2, 4)\n"
          ]
        }
      ]
    },
    {
      "cell_type": "code",
      "source": [
        "var1 = np.array([1,2,3,4], ndmin=4)\n",
        "print(var1)\n",
        "print(var1.ndim)\n",
        "print()\n",
        "print(var1.shape)"
      ],
      "metadata": {
        "colab": {
          "base_uri": "https://localhost:8080/"
        },
        "id": "TIvjfB5COCQ_",
        "outputId": "fcefbeab-db65-4e66-b297-2aa5906df90b"
      },
      "execution_count": 11,
      "outputs": [
        {
          "output_type": "stream",
          "name": "stdout",
          "text": [
            "[[[[1 2 3 4]]]]\n",
            "4\n",
            "\n",
            "(1, 1, 1, 4)\n"
          ]
        }
      ]
    },
    {
      "cell_type": "code",
      "source": [
        "#Reshape\n",
        "# convert the 1D into 2D array\n",
        "var2 = np.array([1,2,3,4,5,6,1,2,3])\n",
        "print(var2)\n",
        "print(var2.ndim)\n",
        "print()\n",
        "x = var2.reshape(3,3)\n",
        "print(x)\n",
        "print(x.ndim)"
      ],
      "metadata": {
        "colab": {
          "base_uri": "https://localhost:8080/"
        },
        "id": "2hZQ96PIOa2Y",
        "outputId": "9aaa55f5-bac1-495f-d5c1-c9ed7bf30298"
      },
      "execution_count": 17,
      "outputs": [
        {
          "output_type": "stream",
          "name": "stdout",
          "text": [
            "[1 2 3 4 5 6 1 2 3]\n",
            "1\n",
            "\n",
            "[[1 2 3]\n",
            " [4 5 6]\n",
            " [1 2 3]]\n",
            "2\n"
          ]
        }
      ]
    },
    {
      "cell_type": "code",
      "source": [
        "# convert the 1D into 3D array\n",
        "var3 = np.array([1,2,3,4,5,6,7,8,9,10,11,12])\n",
        "print(var3)\n",
        "print(var3.ndim)\n",
        "print()\n",
        "\n",
        "x1 = var3.reshape(2,3,2)\n",
        "\n",
        "print(x1)\n",
        "print(x1.ndim)"
      ],
      "metadata": {
        "colab": {
          "base_uri": "https://localhost:8080/"
        },
        "id": "RG4_UOw9O6YX",
        "outputId": "0611f3bd-d8d1-4af9-ac8b-5cbeaea29726"
      },
      "execution_count": 18,
      "outputs": [
        {
          "output_type": "stream",
          "name": "stdout",
          "text": [
            "[ 1  2  3  4  5  6  7  8  9 10 11 12]\n",
            "1\n",
            "\n",
            "[[[ 1  2]\n",
            "  [ 3  4]\n",
            "  [ 5  6]]\n",
            "\n",
            " [[ 7  8]\n",
            "  [ 9 10]\n",
            "  [11 12]]]\n",
            "3\n"
          ]
        }
      ]
    },
    {
      "cell_type": "code",
      "source": [
        "# convert the 1D into 3D array\n",
        "var3 = np.array([1,2,3,4,5,6,7,8,9,10,11,12])\n",
        "print(var3)\n",
        "print(var3.ndim)\n",
        "print()\n",
        "\n",
        "x1 = var3.reshape(2,3,2)\n",
        "\n",
        "print(x1)\n",
        "print(x1.ndim)\n",
        "\n",
        "print()\n",
        "# convert the 3D into 1D\n",
        "one = x1.reshape(-1)\n",
        "print(one)\n",
        "print(one.ndim)"
      ],
      "metadata": {
        "colab": {
          "base_uri": "https://localhost:8080/"
        },
        "id": "f4e_vOxAQ1DC",
        "outputId": "4a77a770-a2a4-407e-a040-f01cd731f902"
      },
      "execution_count": 20,
      "outputs": [
        {
          "output_type": "stream",
          "name": "stdout",
          "text": [
            "[ 1  2  3  4  5  6  7  8  9 10 11 12]\n",
            "1\n",
            "\n",
            "[[[ 1  2]\n",
            "  [ 3  4]\n",
            "  [ 5  6]]\n",
            "\n",
            " [[ 7  8]\n",
            "  [ 9 10]\n",
            "  [11 12]]]\n",
            "3\n",
            "\n",
            "[ 1  2  3  4  5  6  7  8  9 10 11 12]\n",
            "1\n"
          ]
        }
      ]
    },
    {
      "cell_type": "markdown",
      "source": [
        "# Broadcasting"
      ],
      "metadata": {
        "id": "tJMmgydiR7fq"
      }
    },
    {
      "cell_type": "markdown",
      "source": [
        "Broadcasting in NumPy is a powerful mechanism that allows arrays of different shapes to be combined together in arithmetic operations. It makes operations between arrays of different shapes possible without explicitly reshaping or copying the data. Broadcasting follows a set of rules to determine how the arrays should be \"broadcasted\" or stretched to match each other's shapes.\n",
        "\n",
        "The rules of broadcasting are as follows:\n",
        "\n",
        "* If the arrays have a different number of dimensions, the shape of the array with fewer dimensions is padded with ones on its leading (left) side.\n",
        "\n",
        "* If the shape of the two arrays does not match in any dimension, the array with shape equal to 1 in that dimension is stretched to match the other shape.\n",
        "\n",
        "* If, after application of rule 2, the sizes still don't match, NumPy raises a \"ValueError: frames are not aligned\" error."
      ],
      "metadata": {
        "id": "-6bxCYLIQ6cB"
      }
    },
    {
      "cell_type": "code",
      "source": [
        "var1 =np.array([1,2,3,4])\n",
        "var2 =np.array([1,2,3,4])\n",
        "print( var1 + var2 )\n",
        "# to perform addition, the dimension and number of elements are same in both array's."
      ],
      "metadata": {
        "colab": {
          "base_uri": "https://localhost:8080/"
        },
        "id": "m_2d9rqKSEci",
        "outputId": "ad4c90b8-9a7e-4a80-85a1-993c4d94c315"
      },
      "execution_count": 22,
      "outputs": [
        {
          "output_type": "stream",
          "name": "stdout",
          "text": [
            "[2 4 6 8]\n"
          ]
        }
      ]
    },
    {
      "cell_type": "code",
      "source": [
        "var1 = np.array([1,2,3])\n",
        "print(var1.shape)\n",
        "print()\n",
        "print(var1)\n",
        "print()\n",
        "\n",
        "var2 = np.array([[1],[2],[3]])\n",
        "print(var2.shape)\n",
        "print()\n",
        "print(var2)\n",
        "print()\n",
        "print(var1+var2)"
      ],
      "metadata": {
        "colab": {
          "base_uri": "https://localhost:8080/"
        },
        "id": "V6RD__WxSWC0",
        "outputId": "3f6a65e4-d600-4a70-fdb2-b9ec9c5b1664"
      },
      "execution_count": 25,
      "outputs": [
        {
          "output_type": "stream",
          "name": "stdout",
          "text": [
            "(3,)\n",
            "\n",
            "[1 2 3]\n",
            "\n",
            "(3, 1)\n",
            "\n",
            "[[1]\n",
            " [2]\n",
            " [3]]\n",
            "\n",
            "[[2 3 4]\n",
            " [3 4 5]\n",
            " [4 5 6]]\n"
          ]
        }
      ]
    },
    {
      "cell_type": "code",
      "source": [
        "x = np.array([[1],[2]])\n",
        "print(x.shape)\n",
        "\n",
        "y = np.array([[1,2,3],[1,2,3]])\n",
        "print(y.shape)\n",
        "z = x+y\n",
        "print(z)\n",
        "print(z.shape)"
      ],
      "metadata": {
        "colab": {
          "base_uri": "https://localhost:8080/"
        },
        "id": "ZOuU9BAtT-4s",
        "outputId": "3aa71bb3-149c-41e4-c7bf-e51422bf3be9"
      },
      "execution_count": 30,
      "outputs": [
        {
          "output_type": "stream",
          "name": "stdout",
          "text": [
            "(2, 1)\n",
            "(2, 3)\n",
            "[[2 3 4]\n",
            " [3 4 5]]\n",
            "(2, 3)\n"
          ]
        }
      ]
    },
    {
      "cell_type": "markdown",
      "source": [
        "# Indexing:"
      ],
      "metadata": {
        "id": "KbTbVib6xRJE"
      }
    },
    {
      "cell_type": "code",
      "source": [
        "import numpy as np\n",
        "\n",
        "var = np.array([9, 8, 7, 6])\n",
        "#               0  1  2  3\n",
        "#              -4 -3 -2 -1\n",
        "print(var[1])\n",
        "print(var[-3])"
      ],
      "metadata": {
        "colab": {
          "base_uri": "https://localhost:8080/"
        },
        "id": "qpcJXpXKxTi-",
        "outputId": "ce152fd0-f992-4753-a763-6fe2496e0596"
      },
      "execution_count": 31,
      "outputs": [
        {
          "output_type": "stream",
          "name": "stdout",
          "text": [
            "8\n",
            "8\n"
          ]
        }
      ]
    },
    {
      "cell_type": "code",
      "source": [
        "var1 = np.array([[9,8,7],[4,5,6]])\n",
        "\n",
        "print(var1)\n",
        "print(var1.ndim)\n",
        "print()\n",
        "\n",
        "print(var1[0,2])"
      ],
      "metadata": {
        "colab": {
          "base_uri": "https://localhost:8080/"
        },
        "id": "JKWUXqYlxuDF",
        "outputId": "1424208e-4b0a-47e0-92c8-1d660de6cb18"
      },
      "execution_count": 33,
      "outputs": [
        {
          "output_type": "stream",
          "name": "stdout",
          "text": [
            "[[9 8 7]\n",
            " [4 5 6]]\n",
            "2\n",
            "\n",
            "7\n"
          ]
        }
      ]
    },
    {
      "cell_type": "code",
      "source": [
        "var2 = np.array([[[1,2],[6,7]]])\n",
        "print(var2)\n",
        "print(var2.ndim)\n",
        "print()\n",
        "print(var2[0,1,1])"
      ],
      "metadata": {
        "colab": {
          "base_uri": "https://localhost:8080/"
        },
        "id": "qg-RaZ7tycUq",
        "outputId": "955b0e87-65c7-4b22-e526-7488e83a36f4"
      },
      "execution_count": 35,
      "outputs": [
        {
          "output_type": "stream",
          "name": "stdout",
          "text": [
            "[[[1 2]\n",
            "  [6 7]]]\n",
            "3\n",
            "\n",
            "7\n"
          ]
        }
      ]
    },
    {
      "cell_type": "markdown",
      "source": [
        "# Slicing:\n",
        "x[start:stop:step]"
      ],
      "metadata": {
        "id": "hT8Y_E9zzlQ4"
      }
    },
    {
      "cell_type": "code",
      "source": [
        "var = np.array([9, 8, 7, 6, 5, 4, 3])\n",
        "#               0  1  2  3  4  5  6\n",
        "print(var)\n",
        "\n",
        "print()\n",
        "\n",
        "print(\"2 to 5:\",var[1:5])\n",
        "print(\"2 to End:\",var[1:])\n",
        "print(\"start to 5:\",var[:5])\n",
        "print(\"stop :\",var[1:6:2])"
      ],
      "metadata": {
        "colab": {
          "base_uri": "https://localhost:8080/"
        },
        "id": "jEa18HH5zoIt",
        "outputId": "14006d2f-aad1-40c8-83f1-90a29518d8c4"
      },
      "execution_count": 41,
      "outputs": [
        {
          "output_type": "stream",
          "name": "stdout",
          "text": [
            "[9 8 7 6 5 4 3]\n",
            "\n",
            "2 to 5: [8 7 6 5]\n",
            "2 to End: [8 7 6 5 4 3]\n",
            "start to 5: [9 8 7 6 5]\n",
            "stop : [8 6 4]\n"
          ]
        }
      ]
    },
    {
      "cell_type": "code",
      "source": [
        "var1 = np.array([[1,2,3,4,5],[9,8,7,6,5],[11,12,13,14,15]])\n",
        "\n",
        "print(var1)\n",
        "print()\n",
        "\n",
        "print(\"12 to 15 :\",var1[2,1:])"
      ],
      "metadata": {
        "colab": {
          "base_uri": "https://localhost:8080/"
        },
        "id": "WBam6hYp0SzM",
        "outputId": "a491b956-e5ba-47b7-a1a1-2cf919c0982e"
      },
      "execution_count": 54,
      "outputs": [
        {
          "output_type": "stream",
          "name": "stdout",
          "text": [
            "[[ 1  2  3  4  5]\n",
            " [ 9  8  7  6  5]\n",
            " [11 12 13 14 15]]\n",
            "\n",
            "12 to 15 : [12 13 14 15]\n"
          ]
        }
      ]
    },
    {
      "cell_type": "code",
      "source": [
        "var2 = np.array([[[1,2,3,4,5],[9,8,7,6,5],[11,12,13,14,15]],[[11,12,13,14,15],[9,8,7,6,5],[1,2,3,4,5]]])\n",
        "\n",
        "print(var2)\n",
        "print()\n",
        "\n",
        "print(\"2 to 5 :\",var2[1,2,1:])"
      ],
      "metadata": {
        "colab": {
          "base_uri": "https://localhost:8080/"
        },
        "id": "hPVn5q_A18EI",
        "outputId": "87143d57-1584-4ee8-a0fa-ad3b02bd2179"
      },
      "execution_count": 53,
      "outputs": [
        {
          "output_type": "stream",
          "name": "stdout",
          "text": [
            "[[[ 1  2  3  4  5]\n",
            "  [ 9  8  7  6  5]\n",
            "  [11 12 13 14 15]]\n",
            "\n",
            " [[11 12 13 14 15]\n",
            "  [ 9  8  7  6  5]\n",
            "  [ 1  2  3  4  5]]]\n",
            "\n",
            "2 to 5 : [2 3 4 5]\n"
          ]
        }
      ]
    },
    {
      "cell_type": "markdown",
      "source": [
        "# Iteration in NumPy Array:"
      ],
      "metadata": {
        "id": "fJjsFCL74OJ3"
      }
    },
    {
      "cell_type": "code",
      "source": [
        "var = np.array([9,8,7,6,5,4])\n",
        "print(var)\n",
        "print()\n",
        "for i in var :\n",
        "  print(i)"
      ],
      "metadata": {
        "colab": {
          "base_uri": "https://localhost:8080/"
        },
        "id": "ktW-g-s94Tb3",
        "outputId": "d5b561c7-5496-450f-e388-2a86e819cdd4"
      },
      "execution_count": 55,
      "outputs": [
        {
          "output_type": "stream",
          "name": "stdout",
          "text": [
            "[9 8 7 6 5 4]\n",
            "\n",
            "9\n",
            "8\n",
            "7\n",
            "6\n",
            "5\n",
            "4\n"
          ]
        }
      ]
    },
    {
      "cell_type": "code",
      "source": [
        "var1 = np.array([[1,2,3,4],[1,2,3,4]])\n",
        "print(var1)\n",
        "print()\n",
        "\n",
        "for j in var1:\n",
        "  print(j)\n",
        "\n",
        "print()\n",
        "\n",
        "for k in var1:\n",
        "  for l in k:\n",
        "    print(l)"
      ],
      "metadata": {
        "colab": {
          "base_uri": "https://localhost:8080/"
        },
        "id": "TB7Zou3g4ypb",
        "outputId": "53fb22c1-5f4f-4513-9ff4-ac99d9d8df60"
      },
      "execution_count": 57,
      "outputs": [
        {
          "output_type": "stream",
          "name": "stdout",
          "text": [
            "[[1 2 3 4]\n",
            " [1 2 3 4]]\n",
            "\n",
            "[1 2 3 4]\n",
            "[1 2 3 4]\n",
            "\n",
            "1\n",
            "2\n",
            "3\n",
            "4\n",
            "1\n",
            "2\n",
            "3\n",
            "4\n"
          ]
        }
      ]
    },
    {
      "cell_type": "code",
      "source": [
        "var3 = np.array([[[1,2,3,4],[1,2,3,4]]])\n",
        "print(var3)\n",
        "print(var3.ndim)\n",
        "print()\n",
        "\n",
        "for i in var3:\n",
        "  for j in i:\n",
        "    for k in j:\n",
        "      print(k)"
      ],
      "metadata": {
        "colab": {
          "base_uri": "https://localhost:8080/"
        },
        "id": "NsYfHIHc5H_6",
        "outputId": "da48a5a1-995b-4d61-b17b-a00a80e2ad59"
      },
      "execution_count": 58,
      "outputs": [
        {
          "output_type": "stream",
          "name": "stdout",
          "text": [
            "[[[1 2 3 4]\n",
            "  [1 2 3 4]]]\n",
            "3\n",
            "\n",
            "1\n",
            "2\n",
            "3\n",
            "4\n",
            "1\n",
            "2\n",
            "3\n",
            "4\n"
          ]
        }
      ]
    },
    {
      "cell_type": "code",
      "source": [
        "# inbuilt function : nditer()\n",
        "var3 = np.array([[[1,2,3,4],[1,2,3,4]]])\n",
        "print(var3)\n",
        "print(var3.ndim)\n",
        "print()\n",
        "\n",
        "for i in np.nditer(var3):\n",
        "  print(i)\n",
        "\n",
        "print(\"stored in buffer in the form of string\")\n",
        "for i in np.nditer(var3, flags=['buffered'],op_dtypes=[\"S\"]):\n",
        "  print(i)\n"
      ],
      "metadata": {
        "colab": {
          "base_uri": "https://localhost:8080/"
        },
        "id": "cVhCTbYZ56x7",
        "outputId": "661eb540-e4e3-4207-b799-c6ffbeeb4ba5"
      },
      "execution_count": 63,
      "outputs": [
        {
          "output_type": "stream",
          "name": "stdout",
          "text": [
            "[[[1 2 3 4]\n",
            "  [1 2 3 4]]]\n",
            "3\n",
            "\n",
            "1\n",
            "2\n",
            "3\n",
            "4\n",
            "1\n",
            "2\n",
            "3\n",
            "4\n",
            "stored in buffer in the form of string\n",
            "b'1'\n",
            "b'2'\n",
            "b'3'\n",
            "b'4'\n",
            "b'1'\n",
            "b'2'\n",
            "b'3'\n",
            "b'4'\n"
          ]
        }
      ]
    },
    {
      "cell_type": "code",
      "source": [
        "# inbuilt function : ndenumerate() -> iterate the element with giving their indexes.\n",
        "var3 = np.array([[[1,2,3,4],[1,2,3,4]]])\n",
        "print(var3)\n",
        "print(var3.ndim)\n",
        "print()\n",
        "\n",
        "for i,d in np.ndenumerate(var3):\n",
        "  print(i,d)\n"
      ],
      "metadata": {
        "colab": {
          "base_uri": "https://localhost:8080/"
        },
        "id": "WDgHS4lX61oK",
        "outputId": "b1149ab3-db6f-4673-965d-211f3e8e6ba7"
      },
      "execution_count": 64,
      "outputs": [
        {
          "output_type": "stream",
          "name": "stdout",
          "text": [
            "[[[1 2 3 4]\n",
            "  [1 2 3 4]]]\n",
            "3\n",
            "\n",
            "(0, 0, 0) 1\n",
            "(0, 0, 1) 2\n",
            "(0, 0, 2) 3\n",
            "(0, 0, 3) 4\n",
            "(0, 1, 0) 1\n",
            "(0, 1, 1) 2\n",
            "(0, 1, 2) 3\n",
            "(0, 1, 3) 4\n"
          ]
        }
      ]
    },
    {
      "cell_type": "markdown",
      "source": [
        "# **Copy** vs **View**:\n",
        "The Difference between Copy and View:\n",
        "\n",
        "> Copy:\n",
        "* The copy owns the data.\n",
        "* The copy of an array is new array.\n",
        "* The changes made in the copy data does not reflect in the original array.\n",
        "\n",
        "> View:\n",
        "* The view does not own the data.\n",
        "* A view of the original array.\n",
        "* Any changes made to the view will affect the original array, and anychanges made to the original array will affect the view.\n",
        "\n",
        "\n",
        "\n"
      ],
      "metadata": {
        "id": "wc6SiT_n9OyH"
      }
    },
    {
      "cell_type": "code",
      "source": [
        "import numpy as np\n",
        "\n",
        "var = np.array([1,2,3,4])\n",
        "\n",
        "co = var.copy()\n",
        "#var[1] = 9\n",
        "\n",
        "print(\"var :\",var)\n",
        "print(\"copy :\",co)"
      ],
      "metadata": {
        "colab": {
          "base_uri": "https://localhost:8080/"
        },
        "id": "cwP5ewNz9cKp",
        "outputId": "fd437c9c-7269-46e5-9cc3-711612d54d57"
      },
      "execution_count": 71,
      "outputs": [
        {
          "output_type": "stream",
          "name": "stdout",
          "text": [
            "var : [1 2 3 4]\n",
            "copy : [1 2 3 4]\n"
          ]
        }
      ]
    },
    {
      "cell_type": "code",
      "source": [
        "x = np.array([9,8,7,6,5])\n",
        "\n",
        "vi = x.view()\n",
        "#x[1] = 9\n",
        "print(\"x :\",x)\n",
        "print(\"view :\",vi)"
      ],
      "metadata": {
        "colab": {
          "base_uri": "https://localhost:8080/"
        },
        "id": "H6dj5K1M9x6C",
        "outputId": "42f17b39-4d81-4c3f-bd5b-334b077bf129"
      },
      "execution_count": 70,
      "outputs": [
        {
          "output_type": "stream",
          "name": "stdout",
          "text": [
            "x : [9 8 7 6 5]\n",
            "view : [9 8 7 6 5]\n"
          ]
        }
      ]
    },
    {
      "cell_type": "markdown",
      "source": [
        "# Join Array:\n"
      ],
      "metadata": {
        "id": "eUT9HW1OAaGP"
      }
    },
    {
      "cell_type": "markdown",
      "source": [
        "concatenate():"
      ],
      "metadata": {
        "id": "zc5EBPaOCeGe"
      }
    },
    {
      "cell_type": "code",
      "source": [
        "var = np.array([1,2,3,4])\n",
        "var1 = np.array([9,8,7,6])\n",
        "\n",
        "ar = np.concatenate((var, var1))\n",
        "print(ar)"
      ],
      "metadata": {
        "colab": {
          "base_uri": "https://localhost:8080/"
        },
        "id": "Ni9qRi6fAgUC",
        "outputId": "769cdaa1-485f-47ee-d2e5-943d1f599b4f"
      },
      "execution_count": 73,
      "outputs": [
        {
          "output_type": "stream",
          "name": "stdout",
          "text": [
            "[1 2 3 4 9 8 7 6]\n"
          ]
        }
      ]
    },
    {
      "cell_type": "code",
      "source": [
        "vr = np.array([[1,2],[3,4]])\n",
        "vr1 = np.array([[9,8],[7,6]])\n",
        "\n",
        "ar_new = np.concatenate((vr, vr1),axis=1)\n",
        "\n",
        "print(vr)\n",
        "print()\n",
        "print(vr1)\n",
        "print()\n",
        "print(ar_new)"
      ],
      "metadata": {
        "colab": {
          "base_uri": "https://localhost:8080/"
        },
        "id": "ViKOgRXYAzYo",
        "outputId": "e9f1474b-6ead-445a-865e-830cd525cb0a"
      },
      "execution_count": 82,
      "outputs": [
        {
          "output_type": "stream",
          "name": "stdout",
          "text": [
            "[[1 2]\n",
            " [3 4]]\n",
            "\n",
            "[[9 8]\n",
            " [7 6]]\n",
            "\n",
            "[[1 2 9 8]\n",
            " [3 4 7 6]]\n"
          ]
        }
      ]
    },
    {
      "cell_type": "markdown",
      "source": [
        "stack(): It merge the arrays and works on the basis of axis\n"
      ],
      "metadata": {
        "id": "bhdudpr3CmDw"
      }
    },
    {
      "cell_type": "code",
      "source": [
        "var_1 = np.array([1,2,3,4])\n",
        "var_2 = np.array([9,8,7,6])\n",
        "\n",
        "a_new = np.stack((var_1,var_2),axis = 1)\n",
        "a_new_row = np.hstack((var_1,var_2))\n",
        "a_new_column = np.vstack((var_1,var_2))\n",
        "a_new_height = np.dstack((var_1,var_2))\n",
        "print(a_new)\n",
        "print(\"row wise\")\n",
        "print(a_new_row)\n",
        "print(\"column wise\")\n",
        "print(a_new_column)\n",
        "print(\"height wise\")\n",
        "print(a_new_height)\n"
      ],
      "metadata": {
        "colab": {
          "base_uri": "https://localhost:8080/"
        },
        "id": "v0JvxriMCqg3",
        "outputId": "aede72dd-fd1a-49a9-aaf9-30004786822c"
      },
      "execution_count": 85,
      "outputs": [
        {
          "output_type": "stream",
          "name": "stdout",
          "text": [
            "[[1 9]\n",
            " [2 8]\n",
            " [3 7]\n",
            " [4 6]]\n",
            "row wise\n",
            "[1 2 3 4 9 8 7 6]\n",
            "column wise\n",
            "[[1 2 3 4]\n",
            " [9 8 7 6]]\n",
            "height wise\n",
            "[[[1 9]\n",
            "  [2 8]\n",
            "  [3 7]\n",
            "  [4 6]]]\n"
          ]
        }
      ]
    },
    {
      "cell_type": "markdown",
      "source": [
        "# Split Array:"
      ],
      "metadata": {
        "id": "QfNLm1ujGSAJ"
      }
    },
    {
      "cell_type": "code",
      "source": [
        "var = np.array([1,2,3,4,5,6])\n",
        "print(var)\n",
        "\n",
        "ar = np.array_split(var,3)\n",
        "\n",
        "print()\n",
        "print(ar)\n",
        "print(ar[0])"
      ],
      "metadata": {
        "colab": {
          "base_uri": "https://localhost:8080/"
        },
        "id": "4CpgUg2lGUsl",
        "outputId": "355ac905-ff1b-4506-88f0-ca1a95c4863b"
      },
      "execution_count": 88,
      "outputs": [
        {
          "output_type": "stream",
          "name": "stdout",
          "text": [
            "[1 2 3 4 5 6]\n",
            "\n",
            "[array([1, 2]), array([3, 4]), array([5, 6])]\n",
            "[1 2]\n"
          ]
        }
      ]
    },
    {
      "cell_type": "code",
      "source": [
        "var1 = np.array([[1,2],[3,4],[5,6]])\n",
        "\n",
        "print(var1)\n",
        "\n",
        "ar1 = np.array_split(var1,3)\n",
        "ar2 = np.array_split(var1,3,axis=1)\n",
        "\n",
        "print()\n",
        "print(ar1)\n",
        "print()\n",
        "print(ar2)"
      ],
      "metadata": {
        "colab": {
          "base_uri": "https://localhost:8080/"
        },
        "id": "usgf-FDIGc__",
        "outputId": "db4cba1f-587e-49c7-e6f9-3969f355ca3d"
      },
      "execution_count": 90,
      "outputs": [
        {
          "output_type": "stream",
          "name": "stdout",
          "text": [
            "[[1 2]\n",
            " [3 4]\n",
            " [5 6]]\n",
            "\n",
            "[array([[1, 2]]), array([[3, 4]]), array([[5, 6]])]\n",
            "\n",
            "[array([[1],\n",
            "       [3],\n",
            "       [5]]), array([[2],\n",
            "       [4],\n",
            "       [6]]), array([], shape=(3, 0), dtype=int64)]\n"
          ]
        }
      ]
    },
    {
      "cell_type": "markdown",
      "source": [
        "# NumPy Arrays functions:\n"
      ],
      "metadata": {
        "id": "0XwBHLJNNEOP"
      }
    },
    {
      "cell_type": "markdown",
      "source": [
        "1. Search Array: Search an array for a certain value, and return the indexes that get a match."
      ],
      "metadata": {
        "id": "akWCF0AQNM2k"
      }
    },
    {
      "cell_type": "code",
      "source": [
        "import numpy as np\n",
        "var = np.array([4,2,3,4,2,5,2,5,6,7])\n",
        "\n",
        "x = np.where( (var%2) == 0 )\n",
        "\n",
        "print(x)"
      ],
      "metadata": {
        "colab": {
          "base_uri": "https://localhost:8080/"
        },
        "id": "Lw-tz9fGNb7w",
        "outputId": "91881d93-fa7a-469d-c1ff-aae9b34dfcd3"
      },
      "execution_count": 2,
      "outputs": [
        {
          "output_type": "stream",
          "name": "stdout",
          "text": [
            "(array([0, 1, 3, 4, 6, 8]),)\n"
          ]
        }
      ]
    },
    {
      "cell_type": "code",
      "source": [
        "# Search Sorted Array: which performs a binary search in the array, and returns the index where the specified value would be inserted to maintain the search order.\n",
        "var1 = np.array([1,2,3,4,6,7,8])\n",
        "\n",
        "x1 = np.searchsorted( var1 , 5)\n",
        "\n",
        "print(x1)\n"
      ],
      "metadata": {
        "colab": {
          "base_uri": "https://localhost:8080/"
        },
        "id": "JPUyNyUON5AF",
        "outputId": "c42efc3a-10ec-49a8-fae1-71edf641cfd9"
      },
      "execution_count": 96,
      "outputs": [
        {
          "output_type": "stream",
          "name": "stdout",
          "text": [
            "4\n"
          ]
        }
      ]
    },
    {
      "cell_type": "markdown",
      "source": [
        "2. Sort Array : Ordered sequence is any sequence that has an order corresponding to elements, like numeric or alphabetical, ascending or descending."
      ],
      "metadata": {
        "id": "WB2SfU9yiVHQ"
      }
    },
    {
      "cell_type": "code",
      "source": [
        "var_1 = np.array([4,2,3,1,12,5,22,52,6,7])\n",
        "\n",
        "var_2d = np.array([[4,2,3],[1,12,5],[22,52,6]])\n",
        "print(np.sort(var_1))\n",
        "print(np.sort(var_2d))"
      ],
      "metadata": {
        "colab": {
          "base_uri": "https://localhost:8080/"
        },
        "id": "2HzhLVWqivYv",
        "outputId": "d4da238b-fd66-4b31-b2ca-11e276e31f7b"
      },
      "execution_count": 5,
      "outputs": [
        {
          "output_type": "stream",
          "name": "stdout",
          "text": [
            "[ 1  2  3  4  5  6  7 12 22 52]\n",
            "[[ 2  3  4]\n",
            " [ 1  5 12]\n",
            " [ 6 22 52]]\n"
          ]
        }
      ]
    },
    {
      "cell_type": "code",
      "source": [
        "var_2 = np.array([\"a\",\"s\",\"d\",\"f\"])\n",
        "\n",
        "\n",
        "print(np.sort(var_2))"
      ],
      "metadata": {
        "colab": {
          "base_uri": "https://localhost:8080/"
        },
        "id": "TIvRIuydjcmG",
        "outputId": "e03e4e12-6e15-4e95-c087-58fdd7277221"
      },
      "execution_count": 4,
      "outputs": [
        {
          "output_type": "stream",
          "name": "stdout",
          "text": [
            "['a' 'd' 'f' 's']\n"
          ]
        }
      ]
    },
    {
      "cell_type": "markdown",
      "source": [
        "# Filter Array:"
      ],
      "metadata": {
        "id": "D8pjDxD_k018"
      }
    },
    {
      "cell_type": "code",
      "source": [
        "var_3 = np.array([\"a\",\"s\",\"d\",\"f\"])\n",
        "\n",
        "f = [True,False,False,True]\n",
        "\n",
        "new_a = var_3[f]\n",
        "\n",
        "print(new_a)\n",
        "print(type(new_a))"
      ],
      "metadata": {
        "colab": {
          "base_uri": "https://localhost:8080/"
        },
        "id": "rjrhdOuLk387",
        "outputId": "3350ad89-5986-49b9-e815-28e9ff7db946"
      },
      "execution_count": 7,
      "outputs": [
        {
          "output_type": "stream",
          "name": "stdout",
          "text": [
            "['a' 'f']\n",
            "<class 'numpy.ndarray'>\n"
          ]
        }
      ]
    },
    {
      "cell_type": "markdown",
      "source": [
        "# Arithmetic Functions:"
      ],
      "metadata": {
        "id": "7jL4pghQlvjU"
      }
    },
    {
      "cell_type": "markdown",
      "source": [
        "1. Shuffle:"
      ],
      "metadata": {
        "id": "qjh823E3l6Ys"
      }
    },
    {
      "cell_type": "code",
      "source": [
        "import numpy as np\n",
        "\n",
        "var = np.array([1,2,3,4,5])\n",
        "\n",
        "np.random.shuffle(var)\n",
        "\n",
        "print(var)"
      ],
      "metadata": {
        "colab": {
          "base_uri": "https://localhost:8080/"
        },
        "id": "q8XRXjN4mFwO",
        "outputId": "bea687c0-901a-4305-9e0b-2e827f2254ae"
      },
      "execution_count": 8,
      "outputs": [
        {
          "output_type": "stream",
          "name": "stdout",
          "text": [
            "[1 5 4 2 3]\n"
          ]
        }
      ]
    },
    {
      "cell_type": "markdown",
      "source": [
        "2. Unique:"
      ],
      "metadata": {
        "id": "Zk6IYKesmxBA"
      }
    },
    {
      "cell_type": "code",
      "source": [
        "var1 = np.array([1,2,3,4,2,5,2,6,2,7])\n",
        "\n",
        "x = np.unique(var1, return_index=True,return_counts=True)\n",
        "\n",
        "print(x)\n"
      ],
      "metadata": {
        "colab": {
          "base_uri": "https://localhost:8080/"
        },
        "id": "9GIQXOVUmTKX",
        "outputId": "fb886c8f-58bf-4a78-cd06-f07ce55db413"
      },
      "execution_count": 12,
      "outputs": [
        {
          "output_type": "stream",
          "name": "stdout",
          "text": [
            "(array([1, 2, 3, 4, 5, 6, 7]), array([0, 1, 2, 3, 5, 7, 9]), array([1, 4, 1, 1, 1, 1, 1]))\n"
          ]
        }
      ]
    },
    {
      "cell_type": "markdown",
      "source": [
        "3. Resize:"
      ],
      "metadata": {
        "id": "U3lV3aKvnNL9"
      }
    },
    {
      "cell_type": "code",
      "source": [
        "var2 = np.array([1,2,3,4,5,6])\n",
        "\n",
        "y = np.resize(var2,(3,2))\n",
        "\n",
        "print(y)"
      ],
      "metadata": {
        "colab": {
          "base_uri": "https://localhost:8080/"
        },
        "id": "d33BCvaBnSG2",
        "outputId": "b5de487c-5d53-408b-fdad-0d8ca72dd227"
      },
      "execution_count": 15,
      "outputs": [
        {
          "output_type": "stream",
          "name": "stdout",
          "text": [
            "[[1 2]\n",
            " [3 4]\n",
            " [5 6]]\n"
          ]
        }
      ]
    },
    {
      "cell_type": "markdown",
      "source": [
        "4. flatten and ravel:\n",
        "       both flatten() and ravel() functions are used to convert multi-dimensional arrays into one-dimensional arrays, but they behave differently in terms of memory usage and returned array.\n",
        "\n",
        "   * flatten():\n",
        "         * The flatten() function returns a copy of the original array collapsed into one dimension.\n",
        "         * It always returns a copy of the data, even if it's already one-dimensional.\n",
        "         * Changes made to the flattened array won't affect the original array.\n",
        "         * The returned array is always a new one-dimensional array.\n",
        "\n",
        "   * ravel():\n",
        "         * The ravel() function returns a flattened array, but it may return a view (reference) of the original array if possible, rather than a copy.\n",
        "         * If changes are made to the flattened array obtained using ravel(), they may affect the original array as well, depending on whether a copy or a view is returned.\n",
        "         * The returned array may be a view of the original array, which means modifications to the returned array may modify the original array as well."
      ],
      "metadata": {
        "id": "qCxr_GqmoCNy"
      }
    },
    {
      "cell_type": "code",
      "source": [
        "var2 = np.array([1,2,3,4,5,6])\n",
        "\n",
        "y = np.resize(var2,(3,2))\n",
        "\n",
        "print(\"2 d array :\\n\",y)\n",
        "print()\n",
        "print(\"converted into 1D using flatten:\",y.flatten())\n",
        "print(\"converted into 1D using ravel:\",np.ravel(y))"
      ],
      "metadata": {
        "colab": {
          "base_uri": "https://localhost:8080/"
        },
        "id": "uDDeJoZloHYw",
        "outputId": "12a976a4-66d7-4f60-ebec-20cded410303"
      },
      "execution_count": 25,
      "outputs": [
        {
          "output_type": "stream",
          "name": "stdout",
          "text": [
            "2 d array :\n",
            " [[1 2]\n",
            " [3 4]\n",
            " [5 6]]\n",
            "\n",
            "converted into 1D using flatten: [1 2 3 4 5 6]\n",
            "converted into 1D using ravel: [1 2 3 4 5 6]\n"
          ]
        }
      ]
    },
    {
      "cell_type": "markdown",
      "source": [
        "Order: {'C','F','A','K'}, Optional :     \n",
        "* 'C' means to flatten in row-major (C-style) order.\n",
        "* 'F' means to flatten in column-major (Fotran-style) order.\n",
        "* 'A' means to flatten in column-major order if `a` is Fortran *contiguous* in memory, row-major order otherwise.\n",
        "* 'K' means to flatten `a` in the order the elements occur in memory.\n",
        "* The default is 'C'."
      ],
      "metadata": {
        "id": "jzEsCLoiqDO6"
      }
    },
    {
      "cell_type": "code",
      "source": [
        "var2 = np.array([1,2,3,4,5,6])\n",
        "\n",
        "y = np.resize(var2,(3,2))\n",
        "\n",
        "print(\"2 d array :\\n\",y)\n",
        "print()\n",
        "print(\"converted into 1D using flatten:\",y.flatten(order='C'))\n",
        "print(\"converted into 1D using ravel:\",np.ravel(y, order='A'))\n"
      ],
      "metadata": {
        "colab": {
          "base_uri": "https://localhost:8080/"
        },
        "id": "bYqbWuTbrQwX",
        "outputId": "82b147f8-03e8-4c46-b80d-1ffd713f3b38"
      },
      "execution_count": 29,
      "outputs": [
        {
          "output_type": "stream",
          "name": "stdout",
          "text": [
            "2 d array :\n",
            " [[1 2]\n",
            " [3 4]\n",
            " [5 6]]\n",
            "\n",
            "converted into 1D using flatten: [1 2 3 4 5 6]\n",
            "converted into 1D using ravel: [1 2 3 4 5 6]\n"
          ]
        }
      ]
    },
    {
      "cell_type": "markdown",
      "source": [
        "# NumPy Arrays Functions (**Insert** and **Delete** Function)"
      ],
      "metadata": {
        "id": "y8RtRyG_tV9M"
      }
    },
    {
      "cell_type": "markdown",
      "source": [
        "1 **Insert**:"
      ],
      "metadata": {
        "id": "sj58zcrHtocI"
      }
    },
    {
      "cell_type": "code",
      "source": [
        "import numpy as np\n",
        "\n",
        "var = np.array([1,2,3,4])\n",
        "print(var)\n",
        "\n",
        "v = np.insert(var, 2 , 40)  #np.insert(array_name, position, element)\n",
        "print(v)"
      ],
      "metadata": {
        "colab": {
          "base_uri": "https://localhost:8080/"
        },
        "id": "6miDbVe1trfd",
        "outputId": "157067c7-7d26-4c0d-8ef3-ab7865e3957e"
      },
      "execution_count": 38,
      "outputs": [
        {
          "output_type": "stream",
          "name": "stdout",
          "text": [
            "[1 2 3 4]\n",
            "[ 1  2 40  3  4]\n"
          ]
        }
      ]
    },
    {
      "cell_type": "code",
      "source": [
        "var = np.array([1,2,3,4])\n",
        "print(var)\n",
        "\n",
        "v = np.insert(var, (2,4) , 40)  #np.insert(array_name, (position1,position2,...), element)\n",
        "print(v)"
      ],
      "metadata": {
        "colab": {
          "base_uri": "https://localhost:8080/"
        },
        "id": "bcEKAFODtzSa",
        "outputId": "955b4a7c-2011-44e6-c1fd-7ec80c7a9731"
      },
      "execution_count": 35,
      "outputs": [
        {
          "output_type": "stream",
          "name": "stdout",
          "text": [
            "[1 2 3 4]\n",
            "[ 1  2 40  3  4 40]\n"
          ]
        }
      ]
    },
    {
      "cell_type": "code",
      "source": [
        "var = np.array([1,2,3,4])\n",
        "print(var)\n",
        "\n",
        "v = np.insert(var, (2,4) , 6.5)  #np.insert(array_name, (position1,position2,...), element)\n",
        "print(v) # it did'nt insert the float value, only accept the integer part before decimal"
      ],
      "metadata": {
        "colab": {
          "base_uri": "https://localhost:8080/"
        },
        "id": "xf8QvMy7ucrG",
        "outputId": "25f07792-4873-47b1-bed8-c0924fb55b9c"
      },
      "execution_count": 36,
      "outputs": [
        {
          "output_type": "stream",
          "name": "stdout",
          "text": [
            "[1 2 3 4]\n",
            "[1 2 6 3 4 6]\n"
          ]
        }
      ]
    },
    {
      "cell_type": "code",
      "source": [
        "var1 = np.array([[1,2,3],[1,2,3]])\n",
        "\n",
        "print(\"insert based on adding new rows\")\n",
        "v1 = np.insert(var1, 2, 6, axis=0)\n",
        "print(v1)\n",
        "print()\n",
        "print(\"insert based on adding new column\")\n",
        "v2 = np.insert(var1, 2, 6, axis=1)\n",
        "print(v2)"
      ],
      "metadata": {
        "colab": {
          "base_uri": "https://localhost:8080/"
        },
        "id": "w2SVauY0uv_k",
        "outputId": "2d3699ff-91aa-4bad-9539-a388dd42a162"
      },
      "execution_count": 45,
      "outputs": [
        {
          "output_type": "stream",
          "name": "stdout",
          "text": [
            "insert based on adding new rows\n",
            "[[1 2 3]\n",
            " [1 2 3]\n",
            " [6 6 6]]\n",
            "\n",
            "insert based on adding new column\n",
            "[[1 2 6 3]\n",
            " [1 2 6 3]]\n"
          ]
        }
      ]
    },
    {
      "cell_type": "code",
      "source": [
        "var1 = np.array([[1,2,3],[1,2,3]])\n",
        "\n",
        "v1 = np.insert(var1, 2 , [22,23,24], axis = 0)\n",
        "\n",
        "print(v1)"
      ],
      "metadata": {
        "colab": {
          "base_uri": "https://localhost:8080/"
        },
        "id": "-6F1gqxVvsuZ",
        "outputId": "319c9e95-ff90-4d26-9bfe-fe8a3020b218"
      },
      "execution_count": 49,
      "outputs": [
        {
          "output_type": "stream",
          "name": "stdout",
          "text": [
            "[[ 1  2  3]\n",
            " [ 1  2  3]\n",
            " [22 23 24]]\n"
          ]
        }
      ]
    },
    {
      "cell_type": "markdown",
      "source": [
        "2. **Append**:"
      ],
      "metadata": {
        "id": "8KmZf2Oxyo23"
      }
    },
    {
      "cell_type": "code",
      "source": [
        "var = np.array([1,2,3,4])\n",
        "print(var)\n",
        "\n",
        "x = np.append(var, 6.5)\n",
        "print(x)"
      ],
      "metadata": {
        "colab": {
          "base_uri": "https://localhost:8080/"
        },
        "id": "9oqCzx9RyrJm",
        "outputId": "19ac67da-e041-4a8e-a2d3-c0e875a80b38"
      },
      "execution_count": 50,
      "outputs": [
        {
          "output_type": "stream",
          "name": "stdout",
          "text": [
            "[1 2 3 4]\n",
            "[1.  2.  3.  4.  6.5]\n"
          ]
        }
      ]
    },
    {
      "cell_type": "code",
      "source": [
        "var1 = np.array([[1,2,3],[1,2,3]])\n",
        "\n",
        "v1 = np.append(var1,[[45,44,23]],axis=0)\n",
        "print(v1)"
      ],
      "metadata": {
        "colab": {
          "base_uri": "https://localhost:8080/"
        },
        "id": "jONZ48H_y4Oy",
        "outputId": "e823bf10-2ad3-4679-e7e8-5ac5b599d079"
      },
      "execution_count": 51,
      "outputs": [
        {
          "output_type": "stream",
          "name": "stdout",
          "text": [
            "[[ 1  2  3]\n",
            " [ 1  2  3]\n",
            " [45 44 23]]\n"
          ]
        }
      ]
    },
    {
      "cell_type": "markdown",
      "source": [
        "3. **Delete**:"
      ],
      "metadata": {
        "id": "A4g7TusizP_x"
      }
    },
    {
      "cell_type": "code",
      "source": [
        "import numpy as np\n",
        "\n",
        "var1 = np.array([1,2,3,4])\n",
        "print(var1)\n",
        "print(f\"{var1[2]} are deleted\")\n",
        "d = np.delete(var1, 2)\n",
        "print(d)"
      ],
      "metadata": {
        "colab": {
          "base_uri": "https://localhost:8080/"
        },
        "id": "YvK6OUBszTGA",
        "outputId": "7ffcbf29-e57f-421b-8384-6dfcb7ef17a2"
      },
      "execution_count": 53,
      "outputs": [
        {
          "output_type": "stream",
          "name": "stdout",
          "text": [
            "[1 2 3 4]\n",
            "3 are deleted\n",
            "[1 2 4]\n"
          ]
        }
      ]
    },
    {
      "cell_type": "markdown",
      "source": [
        "# **Matrix** in NumPy Arrays:"
      ],
      "metadata": {
        "id": "wPryzNOR1Tu9"
      }
    },
    {
      "cell_type": "markdown",
      "source": [
        "Create a matrix in numpy array's:"
      ],
      "metadata": {
        "id": "kRGwcm3_1ns4"
      }
    },
    {
      "cell_type": "code",
      "source": [
        "import numpy as np\n",
        "\n",
        "var =  np.matrix([[1,2],[1,2]])\n",
        "var2 = np.matrix([[1,2],[1,2]])\n",
        "\n",
        "print(var)\n",
        "print(type(var))\n",
        "print()\n",
        "print(var+var2)\n",
        "print(var-var2)\n",
        "print(var*var2)\n",
        "print(var.dot(var2))"
      ],
      "metadata": {
        "colab": {
          "base_uri": "https://localhost:8080/"
        },
        "id": "oim88SHb1rgH",
        "outputId": "42c60e50-5780-4368-92ca-77a95b082a1b"
      },
      "execution_count": 8,
      "outputs": [
        {
          "output_type": "stream",
          "name": "stdout",
          "text": [
            "[[1 2]\n",
            " [1 2]]\n",
            "<class 'numpy.matrix'>\n",
            "\n",
            "[[2 4]\n",
            " [2 4]]\n",
            "[[0 0]\n",
            " [0 0]]\n",
            "[[3 6]\n",
            " [3 6]]\n",
            "[[3 6]\n",
            " [3 6]]\n"
          ]
        }
      ]
    },
    {
      "cell_type": "code",
      "source": [
        "var1 = np.array([[1,2,3],[1,2,3]])\n",
        "\n",
        "print(var1)\n",
        "print(type(var1))\n",
        "print()\n",
        "print(var1*var1)"
      ],
      "metadata": {
        "colab": {
          "base_uri": "https://localhost:8080/"
        },
        "id": "gxXLwTiw14F2",
        "outputId": "c1d6cc4d-fbda-40b0-d858-f3c6d0eec376"
      },
      "execution_count": 9,
      "outputs": [
        {
          "output_type": "stream",
          "name": "stdout",
          "text": [
            "[[1 2 3]\n",
            " [1 2 3]]\n",
            "<class 'numpy.ndarray'>\n",
            "\n",
            "[[1 4 9]\n",
            " [1 4 9]]\n"
          ]
        }
      ]
    },
    {
      "cell_type": "code",
      "source": [
        "var = np.matrix([[1,2,3],[4,5,6]])\n",
        "\n",
        "print(var)\n",
        "print()\n",
        "print(np.transpose(var))\n",
        "print()\n",
        "print(var.T)\n",
        "print()\n",
        "print(np.swapaxes(var,0,1))"
      ],
      "metadata": {
        "colab": {
          "base_uri": "https://localhost:8080/"
        },
        "id": "xsm18VUo20gM",
        "outputId": "94a39f39-980f-44ff-bc62-131acc76510b"
      },
      "execution_count": 12,
      "outputs": [
        {
          "output_type": "stream",
          "name": "stdout",
          "text": [
            "[[1 2 3]\n",
            " [4 5 6]]\n",
            "\n",
            "[[1 4]\n",
            " [2 5]\n",
            " [3 6]]\n",
            "\n",
            "[[1 4]\n",
            " [2 5]\n",
            " [3 6]]\n",
            "\n",
            "[[1 4]\n",
            " [2 5]\n",
            " [3 6]]\n"
          ]
        }
      ]
    },
    {
      "cell_type": "code",
      "source": [
        "var2 = np.matrix([[1,2],[3,4]])\n",
        "print(var2)\n",
        "print()\n",
        "print(np.swapaxes(var2,0,1))"
      ],
      "metadata": {
        "colab": {
          "base_uri": "https://localhost:8080/"
        },
        "id": "TWOgvQrmSlV8",
        "outputId": "c45099bc-473a-44cd-abf5-3c777b2520f1"
      },
      "execution_count": 13,
      "outputs": [
        {
          "output_type": "stream",
          "name": "stdout",
          "text": [
            "[[1 2]\n",
            " [3 4]]\n",
            "\n",
            "[[1 3]\n",
            " [2 4]]\n"
          ]
        }
      ]
    },
    {
      "cell_type": "markdown",
      "source": [
        "Inverse of matrix: A^-1"
      ],
      "metadata": {
        "id": "0IeV2C1pT_wv"
      }
    },
    {
      "cell_type": "code",
      "source": [
        "var3 = np.matrix([[1,2],[3,4]])\n",
        "print(var3)\n",
        "print()\n",
        "print(np.linalg.inv(var3))"
      ],
      "metadata": {
        "colab": {
          "base_uri": "https://localhost:8080/"
        },
        "id": "siyKLog8UDn3",
        "outputId": "b8989c1d-d54a-42ea-e214-9e723b82e30e"
      },
      "execution_count": 14,
      "outputs": [
        {
          "output_type": "stream",
          "name": "stdout",
          "text": [
            "[[1 2]\n",
            " [3 4]]\n",
            "\n",
            "[[-2.   1. ]\n",
            " [ 1.5 -0.5]]\n"
          ]
        }
      ]
    },
    {
      "cell_type": "markdown",
      "source": [
        "Power of matrix: np.linalg.matrix_power(var, n)\n",
        "                  \n",
        "                  n -> n<0 , n=0 , n>0\n",
        "                  n=0  I  [1 0]\n",
        "                          [0 1]\n",
        "                  n>0  power(mult)\n",
        "                  n<0  Inverse X power"
      ],
      "metadata": {
        "id": "ouWfPpKvUs75"
      }
    },
    {
      "cell_type": "code",
      "source": [
        "var4 = np.matrix([[1,2],[3,4]])\n",
        "print(var4)\n",
        "print()\n",
        "\n",
        "print(np.linalg.matrix_power(var4,2))  #case2\n",
        "print()\n",
        "\n",
        "print(np.linalg.matrix_power(var4,0))  #case1\n",
        "print()\n",
        "\n",
        "print(np.linalg.matrix_power(var4,-2)) #case3\n",
        "print()"
      ],
      "metadata": {
        "colab": {
          "base_uri": "https://localhost:8080/"
        },
        "id": "sdZ6KjWqUvOB",
        "outputId": "1a4a1d94-cae8-4a5a-e162-a5bf3f571f65"
      },
      "execution_count": 17,
      "outputs": [
        {
          "output_type": "stream",
          "name": "stdout",
          "text": [
            "[[1 2]\n",
            " [3 4]]\n",
            "\n",
            "[[ 7 10]\n",
            " [15 22]]\n",
            "\n",
            "[[1 0]\n",
            " [0 1]]\n",
            "\n",
            "[[ 5.5  -2.5 ]\n",
            " [-3.75  1.75]]\n",
            "\n"
          ]
        }
      ]
    },
    {
      "cell_type": "markdown",
      "source": [
        "Determinate: np.linalg.det(var)"
      ],
      "metadata": {
        "id": "Y4iWR8l6Wwd3"
      }
    },
    {
      "cell_type": "code",
      "source": [
        "var5 = np.matrix([[1,2,3],[3,4,3],[1,2,3]])\n",
        "print(var5)\n",
        "print()\n",
        "print(np.linalg.det(var5)) #0.0 because two row's are same or identical"
      ],
      "metadata": {
        "colab": {
          "base_uri": "https://localhost:8080/"
        },
        "id": "Cbn3y3LGXD2C",
        "outputId": "b4febd89-f8fb-4f7d-d22d-9b94fcfb209f"
      },
      "execution_count": 19,
      "outputs": [
        {
          "output_type": "stream",
          "name": "stdout",
          "text": [
            "[[1 2 3]\n",
            " [3 4 3]\n",
            " [1 2 3]]\n",
            "\n",
            "0.0\n"
          ]
        }
      ]
    }
  ]
}