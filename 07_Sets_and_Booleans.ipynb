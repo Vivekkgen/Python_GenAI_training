{
  "cells": [
    {
      "cell_type": "markdown",
      "metadata": {
        "id": "view-in-github",
        "colab_type": "text"
      },
      "source": [
        "<a href=\"https://colab.research.google.com/github/Vivekkgen/Python_GenAI_training/blob/main/07_Sets_and_Booleans.ipynb\" target=\"_parent\"><img src=\"https://colab.research.google.com/assets/colab-badge.svg\" alt=\"Open In Colab\"/></a>"
      ]
    },
    {
      "cell_type": "markdown",
      "metadata": {
        "id": "1J2F1h_vxBq_"
      },
      "source": [
        "# Set and Booleans\n",
        "\n",
        "There are two other object types in Python that we should quickly cover: Sets and Booleans.\n",
        "\n",
        "## Sets\n",
        "\n",
        "Sets are an unordered collection of *unique* elements. We can construct them by using the set() function. Let's go ahead and make a set to see how it works"
      ]
    },
    {
      "cell_type": "code",
      "execution_count": null,
      "metadata": {
        "collapsed": true,
        "id": "hp3Oh4JOxBrA"
      },
      "outputs": [],
      "source": [
        "x = set()"
      ]
    },
    {
      "cell_type": "code",
      "execution_count": null,
      "metadata": {
        "collapsed": true,
        "id": "wTi1XMQDxBrB"
      },
      "outputs": [],
      "source": [
        "# We add to sets with the add() method\n",
        "x.add(1)"
      ]
    },
    {
      "cell_type": "code",
      "execution_count": null,
      "metadata": {
        "id": "n7T3OkihxBrB",
        "outputId": "c8ed128d-0372-41f9-95d9-8e9ad96d6e43"
      },
      "outputs": [
        {
          "data": {
            "text/plain": [
              "{1}"
            ]
          },
          "execution_count": 3,
          "metadata": {},
          "output_type": "execute_result"
        }
      ],
      "source": [
        "#Show\n",
        "x"
      ]
    },
    {
      "cell_type": "markdown",
      "metadata": {
        "id": "-GgEu0uhxBrC"
      },
      "source": [
        "Note the curly brackets. This does not indicate a dictionary! Although you can draw analogies as a set being a dictionary with only keys.\n",
        "\n",
        "We know that a set has only unique entries. So what happens when we try to add something that is already in a set?"
      ]
    },
    {
      "cell_type": "code",
      "execution_count": null,
      "metadata": {
        "collapsed": true,
        "id": "UTegJNxUxBrC"
      },
      "outputs": [],
      "source": [
        "# Add a different element\n",
        "x.add(2)"
      ]
    },
    {
      "cell_type": "code",
      "execution_count": null,
      "metadata": {
        "id": "AiNfa-5uxBrC",
        "outputId": "3a5fc6dc-e78f-400c-d92e-e0dabcb42f59"
      },
      "outputs": [
        {
          "data": {
            "text/plain": [
              "{1, 2}"
            ]
          },
          "execution_count": 5,
          "metadata": {},
          "output_type": "execute_result"
        }
      ],
      "source": [
        "#Show\n",
        "x"
      ]
    },
    {
      "cell_type": "code",
      "execution_count": null,
      "metadata": {
        "collapsed": true,
        "id": "p8xEB0UsxBrC"
      },
      "outputs": [],
      "source": [
        "# Try to add the same element\n",
        "x.add(1)"
      ]
    },
    {
      "cell_type": "code",
      "execution_count": null,
      "metadata": {
        "id": "zIyB40WmxBrC",
        "outputId": "f8039554-558c-4f33-cd16-074acdd0d5f4"
      },
      "outputs": [
        {
          "data": {
            "text/plain": [
              "{1, 2}"
            ]
          },
          "execution_count": 7,
          "metadata": {},
          "output_type": "execute_result"
        }
      ],
      "source": [
        "#Show\n",
        "x"
      ]
    },
    {
      "cell_type": "markdown",
      "metadata": {
        "id": "KL77PTG3xBrC"
      },
      "source": [
        "Notice how it won't place another 1 there. That's because a set is only concerned with unique elements! We can cast a list with multiple repeat elements to a set to get the unique elements. For example:"
      ]
    },
    {
      "cell_type": "code",
      "execution_count": null,
      "metadata": {
        "collapsed": true,
        "id": "hs5IlaIRxBrC"
      },
      "outputs": [],
      "source": [
        "# Create a list with repeats\n",
        "list1 = [1,1,2,2,3,4,5,6,1,1]"
      ]
    },
    {
      "cell_type": "code",
      "execution_count": null,
      "metadata": {
        "id": "8qhpAO5fxBrC",
        "outputId": "f73aca0d-8293-44a9-80ef-97c702e5e214"
      },
      "outputs": [
        {
          "data": {
            "text/plain": [
              "{1, 2, 3, 4, 5, 6}"
            ]
          },
          "execution_count": 9,
          "metadata": {},
          "output_type": "execute_result"
        }
      ],
      "source": [
        "# Cast as set to get unique values\n",
        "set(list1)"
      ]
    },
    {
      "cell_type": "markdown",
      "metadata": {
        "id": "VFG_GImExBrC"
      },
      "source": [
        "## Booleans\n",
        "\n",
        "Python  comes with Booleans (with predefined True and False displays that are basically just the integers 1 and 0). It also has a placeholder object called None. Let's walk through a few quick examples of Booleans (we will dive deeper into them later in this course)."
      ]
    },
    {
      "cell_type": "code",
      "execution_count": null,
      "metadata": {
        "collapsed": true,
        "id": "8b_FHLHtxBrD"
      },
      "outputs": [],
      "source": [
        "# Set object to be a boolean\n",
        "a = True"
      ]
    },
    {
      "cell_type": "code",
      "execution_count": null,
      "metadata": {
        "id": "Lzv3cQGMxBrD",
        "outputId": "4faebb99-2f26-465b-e4b5-57abf4a03e07"
      },
      "outputs": [
        {
          "data": {
            "text/plain": [
              "True"
            ]
          },
          "execution_count": 11,
          "metadata": {},
          "output_type": "execute_result"
        }
      ],
      "source": [
        "#Show\n",
        "a"
      ]
    },
    {
      "cell_type": "markdown",
      "metadata": {
        "id": "oLeBYPkdxBrD"
      },
      "source": [
        "We can also use comparison operators to create booleans. We will go over all the comparison operators later on in the course."
      ]
    },
    {
      "cell_type": "code",
      "execution_count": null,
      "metadata": {
        "id": "MgmY4ShMxBrD",
        "outputId": "e1676383-9195-4c2e-b6c5-33c47fc46407"
      },
      "outputs": [
        {
          "data": {
            "text/plain": [
              "False"
            ]
          },
          "execution_count": 12,
          "metadata": {},
          "output_type": "execute_result"
        }
      ],
      "source": [
        "# Output is boolean\n",
        "1 > 2"
      ]
    },
    {
      "cell_type": "markdown",
      "metadata": {
        "id": "576B_u6JxBrD"
      },
      "source": [
        "We can use None as a placeholder for an object that we don't want to reassign yet:"
      ]
    },
    {
      "cell_type": "code",
      "execution_count": null,
      "metadata": {
        "collapsed": true,
        "id": "roISmNtOxBrD"
      },
      "outputs": [],
      "source": [
        "# None placeholder\n",
        "b = None"
      ]
    },
    {
      "cell_type": "code",
      "execution_count": null,
      "metadata": {
        "id": "Nw2GhfNExBrD",
        "outputId": "9b31566e-e1f5-436a-a3aa-006b8ca43f7a"
      },
      "outputs": [
        {
          "name": "stdout",
          "output_type": "stream",
          "text": [
            "None\n"
          ]
        }
      ],
      "source": [
        "# Show\n",
        "print(b)"
      ]
    }
  ],
  "metadata": {
    "kernelspec": {
      "display_name": "Python 3",
      "language": "python",
      "name": "python3"
    },
    "language_info": {
      "codemirror_mode": {
        "name": "ipython",
        "version": 3
      },
      "file_extension": ".py",
      "mimetype": "text/x-python",
      "name": "python",
      "nbconvert_exporter": "python",
      "pygments_lexer": "ipython3",
      "version": "3.6.6"
    },
    "colab": {
      "provenance": [],
      "include_colab_link": true
    }
  },
  "nbformat": 4,
  "nbformat_minor": 0
}