{
  "cells": [
    {
      "cell_type": "markdown",
      "metadata": {
        "id": "view-in-github",
        "colab_type": "text"
      },
      "source": [
        "<a href=\"https://colab.research.google.com/github/Vivekkgen/Python_GenAI_training/blob/main/Functions/01_Methods.ipynb\" target=\"_parent\"><img src=\"https://colab.research.google.com/assets/colab-badge.svg\" alt=\"Open In Colab\"/></a>"
      ]
    },
    {
      "cell_type": "markdown",
      "metadata": {
        "id": "oWi8ObPjK_-J"
      },
      "source": [
        "# Methods\n",
        "\n",
        "We've already seen a few example of methods when learning about Object and Data Structure Types in Python. Methods are essentially functions built into objects. Later on in the course we will learn about how to create our own objects and methods using Object Oriented Programming (OOP) and classes.\n",
        "\n",
        "Methods perform specific actions on an object and can also take arguments, just like a function. This lecture will serve as just a brief introduction to methods and get you thinking about overall design methods that we will touch back upon when we reach OOP in the course.\n",
        "\n",
        "Methods are in the form:\n",
        "\n",
        "    object.method(arg1,arg2,etc...)\n",
        "    \n",
        "You'll later see that we can think of methods as having an argument 'self' referring to the object itself. You can't see this argument but we will be using it later on in the course during the OOP lectures.\n",
        "\n",
        "Let's take a quick look at what an example of the various methods a list has:"
      ]
    },
    {
      "cell_type": "code",
      "execution_count": null,
      "metadata": {
        "collapsed": true,
        "id": "s6Tze3EVK_-K"
      },
      "outputs": [],
      "source": [
        "# Create a simple list\n",
        "lst = [1,2,3,4,5]"
      ]
    },
    {
      "cell_type": "markdown",
      "metadata": {
        "id": "MrrmbX4SK_-K"
      },
      "source": [
        "Fortunately, with iPython and the Jupyter Notebook we can quickly see all the possible methods using the tab key. The methods for a list are:\n",
        "\n",
        "* append\n",
        "* count\n",
        "* extend\n",
        "* insert\n",
        "* pop\n",
        "* remove\n",
        "* reverse\n",
        "* sort\n",
        "\n",
        "Let's try out a few of them:"
      ]
    },
    {
      "cell_type": "markdown",
      "metadata": {
        "id": "_AO0xJB5K_-K"
      },
      "source": [
        "append() allows us to add elements to the end of a list:"
      ]
    },
    {
      "cell_type": "code",
      "execution_count": null,
      "metadata": {
        "collapsed": true,
        "id": "5csYlpWVK_-K"
      },
      "outputs": [],
      "source": [
        "lst.append(6)"
      ]
    },
    {
      "cell_type": "code",
      "execution_count": null,
      "metadata": {
        "id": "qyUGHNZOK_-L",
        "outputId": "7d65e66c-30e0-4877-c06a-f233eb93a854"
      },
      "outputs": [
        {
          "data": {
            "text/plain": [
              "[1, 2, 3, 4, 5, 6]"
            ]
          },
          "execution_count": 3,
          "metadata": {},
          "output_type": "execute_result"
        }
      ],
      "source": [
        "lst"
      ]
    },
    {
      "cell_type": "markdown",
      "metadata": {
        "id": "N81x-vucK_-L"
      },
      "source": [
        "Great! Now how about count()? The count() method will count the number of occurrences of an element in a list."
      ]
    },
    {
      "cell_type": "code",
      "execution_count": null,
      "metadata": {
        "id": "q5W1gLFZK_-L",
        "outputId": "a82023a1-78f8-457d-fba7-af444d4715aa"
      },
      "outputs": [
        {
          "data": {
            "text/plain": [
              "1"
            ]
          },
          "execution_count": 4,
          "metadata": {},
          "output_type": "execute_result"
        }
      ],
      "source": [
        "# Check how many times 2 shows up in the list\n",
        "lst.count(2)"
      ]
    },
    {
      "cell_type": "markdown",
      "metadata": {
        "id": "YmSv6MutK_-L"
      },
      "source": [
        "You can always use Shift+Tab in the Jupyter Notebook to get more help about the method. In general Python you can use the help() function:"
      ]
    },
    {
      "cell_type": "code",
      "execution_count": null,
      "metadata": {
        "id": "YqCvTklyK_-L",
        "outputId": "c1cf671f-09e2-4f86-a7fe-054f6614b691"
      },
      "outputs": [
        {
          "name": "stdout",
          "output_type": "stream",
          "text": [
            "Help on built-in function count:\n",
            "\n",
            "count(...) method of builtins.list instance\n",
            "    L.count(value) -> integer -- return number of occurrences of value\n",
            "\n"
          ]
        }
      ],
      "source": [
        "help(lst.count)"
      ]
    }
  ],
  "metadata": {
    "kernelspec": {
      "display_name": "Python 3",
      "language": "python",
      "name": "python3"
    },
    "language_info": {
      "codemirror_mode": {
        "name": "ipython",
        "version": 3
      },
      "file_extension": ".py",
      "mimetype": "text/x-python",
      "name": "python",
      "nbconvert_exporter": "python",
      "pygments_lexer": "ipython3",
      "version": "3.6.6"
    },
    "colab": {
      "provenance": [],
      "include_colab_link": true
    }
  },
  "nbformat": 4,
  "nbformat_minor": 0
}