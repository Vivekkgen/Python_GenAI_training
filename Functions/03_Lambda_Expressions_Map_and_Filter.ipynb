{
  "cells": [
    {
      "cell_type": "markdown",
      "metadata": {
        "id": "view-in-github",
        "colab_type": "text"
      },
      "source": [
        "<a href=\"https://colab.research.google.com/github/Vivekkgen/Python_GenAI_training/blob/main/Functions/03_Lambda_Expressions_Map_and_Filter.ipynb\" target=\"_parent\"><img src=\"https://colab.research.google.com/assets/colab-badge.svg\" alt=\"Open In Colab\"/></a>"
      ]
    },
    {
      "cell_type": "markdown",
      "metadata": {
        "id": "BhQCrtINMEJm"
      },
      "source": [
        "# Lambda Expressions, Map, and Filter\n",
        "\n",
        "Now its time to quickly learn about two built in functions, filter and map. Once we learn about how these operate, we can learn about the lambda expression, which will come in handy when you begin to develop your skills further!"
      ]
    },
    {
      "cell_type": "markdown",
      "metadata": {
        "id": "AoDhQEf3MEJn"
      },
      "source": [
        "## map function\n",
        "\n",
        "The **map** function allows you to \"map\" a function to an iterable object. That is to say you can quickly call the same function to every item in an iterable, such as a list. For example:"
      ]
    },
    {
      "cell_type": "code",
      "execution_count": null,
      "metadata": {
        "collapsed": true,
        "id": "Z_qCEbkGMEJn"
      },
      "outputs": [],
      "source": [
        "def square(num):\n",
        "    return num**2"
      ]
    },
    {
      "cell_type": "code",
      "execution_count": null,
      "metadata": {
        "collapsed": true,
        "id": "MoHSW467MEJn"
      },
      "outputs": [],
      "source": [
        "my_nums = [1,2,3,4,5]"
      ]
    },
    {
      "cell_type": "code",
      "execution_count": null,
      "metadata": {
        "id": "LiWaYZG_MEJn",
        "outputId": "effbbbda-60d4-4309-9060-c59fa3b3b16c"
      },
      "outputs": [
        {
          "data": {
            "text/plain": [
              "<map at 0x205baec21d0>"
            ]
          },
          "execution_count": 5,
          "metadata": {},
          "output_type": "execute_result"
        }
      ],
      "source": [
        "map(square,my_nums)"
      ]
    },
    {
      "cell_type": "code",
      "execution_count": null,
      "metadata": {
        "id": "SFIiG9qpMEJo",
        "outputId": "6d0d71fa-7fec-4476-c557-0d9ba29ed5d4"
      },
      "outputs": [
        {
          "data": {
            "text/plain": [
              "[1, 4, 9, 16, 25]"
            ]
          },
          "execution_count": 7,
          "metadata": {},
          "output_type": "execute_result"
        }
      ],
      "source": [
        "# To get the results, either iterate through map()\n",
        "# or just cast to a list\n",
        "list(map(square,my_nums))"
      ]
    },
    {
      "cell_type": "markdown",
      "metadata": {
        "id": "KlRo6n5KMEJo"
      },
      "source": [
        "The functions can also be more complex"
      ]
    },
    {
      "cell_type": "code",
      "execution_count": null,
      "metadata": {
        "collapsed": true,
        "id": "2NoS-fj8MEJo"
      },
      "outputs": [],
      "source": [
        "def splicer(mystring):\n",
        "    if len(mystring) % 2 == 0:\n",
        "        return 'even'\n",
        "    else:\n",
        "        return mystring[0]"
      ]
    },
    {
      "cell_type": "code",
      "execution_count": null,
      "metadata": {
        "collapsed": true,
        "id": "s7c0Sb42MEJo"
      },
      "outputs": [],
      "source": [
        "mynames = ['John','Cindy','Sarah','Kelly','Mike']"
      ]
    },
    {
      "cell_type": "code",
      "execution_count": null,
      "metadata": {
        "id": "It8tMMzCMEJo",
        "outputId": "a53ce66f-723c-43b5-828e-89869e41eb2a"
      },
      "outputs": [
        {
          "data": {
            "text/plain": [
              "['even', 'C', 'S', 'K', 'even']"
            ]
          },
          "execution_count": 10,
          "metadata": {},
          "output_type": "execute_result"
        }
      ],
      "source": [
        "list(map(splicer,mynames))"
      ]
    },
    {
      "cell_type": "markdown",
      "metadata": {
        "id": "dXPdIBzLMEJo"
      },
      "source": [
        "## filter function\n",
        "\n",
        "The filter function returns an iterator yielding those items of iterable for which function(item)\n",
        "is true. Meaning you need to filter by a function that returns either True or False. Then passing that into filter (along with your iterable) and you will get back only the results that would return True when passed to the function."
      ]
    },
    {
      "cell_type": "code",
      "execution_count": null,
      "metadata": {
        "collapsed": true,
        "id": "JZoqi4m8MEJo"
      },
      "outputs": [],
      "source": [
        "def check_even(num):\n",
        "    return num % 2 == 0"
      ]
    },
    {
      "cell_type": "code",
      "execution_count": null,
      "metadata": {
        "collapsed": true,
        "id": "XUgJgewiMEJp"
      },
      "outputs": [],
      "source": [
        "nums = [0,1,2,3,4,5,6,7,8,9,10]"
      ]
    },
    {
      "cell_type": "code",
      "execution_count": null,
      "metadata": {
        "id": "loAqTxpWMEJp",
        "outputId": "84bfb38a-5820-41d2-a455-71239485934f"
      },
      "outputs": [
        {
          "data": {
            "text/plain": [
              "<filter at 0x205baed4710>"
            ]
          },
          "execution_count": 15,
          "metadata": {},
          "output_type": "execute_result"
        }
      ],
      "source": [
        "filter(check_even,nums)"
      ]
    },
    {
      "cell_type": "code",
      "execution_count": null,
      "metadata": {
        "id": "lBZtNrt8MEJp",
        "outputId": "a3a12aaa-e294-472f-ae8f-e6df7031430e"
      },
      "outputs": [
        {
          "data": {
            "text/plain": [
              "[0, 2, 4, 6, 8, 10]"
            ]
          },
          "execution_count": 16,
          "metadata": {},
          "output_type": "execute_result"
        }
      ],
      "source": [
        "list(filter(check_even,nums))"
      ]
    },
    {
      "cell_type": "markdown",
      "metadata": {
        "collapsed": true,
        "id": "WSpOug0eMEJp"
      },
      "source": [
        "## lambda expression\n",
        "\n",
        "One of Pythons most useful (and for beginners, confusing) tools is the lambda expression. lambda expressions allow us to create \"anonymous\" functions. This basically means we can quickly make ad-hoc functions without needing to properly define a function using def.\n",
        "\n",
        "Function objects returned by running lambda expressions work exactly the same as those created and assigned by defs. There is key difference that makes lambda useful in specialized roles:\n",
        "\n",
        "**lambda's body is a single expression, not a block of statements.**\n",
        "\n",
        "* The lambda's body is similar to what we would put in a def body's return statement. We simply type the result as an expression instead of explicitly returning it. Because it is limited to an expression, a lambda is less general that a def. We can only squeeze design, to limit program nesting. lambda is designed for coding simple functions, and def handles the larger tasks."
      ]
    },
    {
      "cell_type": "markdown",
      "metadata": {
        "id": "8Yw6F0tXMEJp"
      },
      "source": [
        "Lets slowly break down a lambda expression by deconstructing a function:"
      ]
    },
    {
      "cell_type": "code",
      "execution_count": null,
      "metadata": {
        "collapsed": true,
        "id": "nVDW6rlRMEJp"
      },
      "outputs": [],
      "source": [
        "def square(num):\n",
        "    result = num**2\n",
        "    return result"
      ]
    },
    {
      "cell_type": "code",
      "execution_count": null,
      "metadata": {
        "id": "3JiHASstMEJp",
        "outputId": "c421cf00-2507-4f4d-d116-9428eef429dd"
      },
      "outputs": [
        {
          "data": {
            "text/plain": [
              "4"
            ]
          },
          "execution_count": 18,
          "metadata": {},
          "output_type": "execute_result"
        }
      ],
      "source": [
        "square(2)"
      ]
    },
    {
      "cell_type": "markdown",
      "metadata": {
        "id": "QpiPOZQHMEJq"
      },
      "source": [
        "We could simplify it:"
      ]
    },
    {
      "cell_type": "code",
      "execution_count": null,
      "metadata": {
        "collapsed": true,
        "id": "ueuDvCa6MEJq"
      },
      "outputs": [],
      "source": [
        "def square(num):\n",
        "    return num**2"
      ]
    },
    {
      "cell_type": "code",
      "execution_count": null,
      "metadata": {
        "id": "1eezzHf9MEJq",
        "outputId": "7447e0a5-599f-4769-bab4-833a7f0e005a"
      },
      "outputs": [
        {
          "data": {
            "text/plain": [
              "4"
            ]
          },
          "execution_count": 20,
          "metadata": {},
          "output_type": "execute_result"
        }
      ],
      "source": [
        "square(2)"
      ]
    },
    {
      "cell_type": "markdown",
      "metadata": {
        "id": "xNRfXN9-MEJq"
      },
      "source": [
        "We could actually even write this all on one line."
      ]
    },
    {
      "cell_type": "code",
      "execution_count": null,
      "metadata": {
        "collapsed": true,
        "id": "W7t_IFhdMEJq"
      },
      "outputs": [],
      "source": [
        "def square(num): return num**2"
      ]
    },
    {
      "cell_type": "code",
      "execution_count": null,
      "metadata": {
        "id": "BiYj6rdVMEJq",
        "outputId": "69a8da05-482e-42f3-ba1f-102066c498c0"
      },
      "outputs": [
        {
          "data": {
            "text/plain": [
              "4"
            ]
          },
          "execution_count": 22,
          "metadata": {},
          "output_type": "execute_result"
        }
      ],
      "source": [
        "square(2)"
      ]
    },
    {
      "cell_type": "markdown",
      "metadata": {
        "id": "KfKmDtg-MEJr"
      },
      "source": [
        "This is the form a function that a lambda expression intends to replicate. A lambda expression can then be written as:"
      ]
    },
    {
      "cell_type": "code",
      "execution_count": null,
      "metadata": {
        "id": "cGRU-A8KMEJr",
        "outputId": "7c9c74d2-3fcb-43a6-c5eb-f94ec375ee20"
      },
      "outputs": [
        {
          "data": {
            "text/plain": [
              "<function __main__.<lambda>>"
            ]
          },
          "execution_count": 23,
          "metadata": {},
          "output_type": "execute_result"
        }
      ],
      "source": [
        "lambda num: num ** 2"
      ]
    },
    {
      "cell_type": "code",
      "execution_count": null,
      "metadata": {
        "collapsed": true,
        "id": "s9sIFz8jMEJr"
      },
      "outputs": [],
      "source": [
        "# You wouldn't usually assign a name to a lambda expression, this is just for demonstration!\n",
        "square = lambda num: num **2"
      ]
    },
    {
      "cell_type": "code",
      "execution_count": null,
      "metadata": {
        "id": "xIjua7UXMEJr",
        "outputId": "6cb8911f-51b0-40e3-8115-83018dc28746"
      },
      "outputs": [
        {
          "data": {
            "text/plain": [
              "4"
            ]
          },
          "execution_count": 26,
          "metadata": {},
          "output_type": "execute_result"
        }
      ],
      "source": [
        "square(2)"
      ]
    },
    {
      "cell_type": "markdown",
      "metadata": {
        "id": "bR1zf0XPMEJr"
      },
      "source": [
        "So why would use this? Many function calls need a function passed in, such as map and filter. Often you only need to use the function you are passing in once, so instead of formally defining it, you just use the lambda expression. Let's repeat some of the examples from above with a lambda expression"
      ]
    },
    {
      "cell_type": "code",
      "execution_count": null,
      "metadata": {
        "id": "Mc9v6isFMEJr",
        "outputId": "33c4872d-6e5c-4ce1-d388-32b4d5467ecd"
      },
      "outputs": [
        {
          "data": {
            "text/plain": [
              "[1, 4, 9, 16, 25]"
            ]
          },
          "execution_count": 29,
          "metadata": {},
          "output_type": "execute_result"
        }
      ],
      "source": [
        "list(map(lambda num: num ** 2, my_nums))"
      ]
    },
    {
      "cell_type": "code",
      "execution_count": null,
      "metadata": {
        "id": "WUgPoIFAMEJr",
        "outputId": "e1f74009-e2cc-4170-b966-24bacfdb035d"
      },
      "outputs": [
        {
          "data": {
            "text/plain": [
              "[0, 2, 4, 6, 8, 10]"
            ]
          },
          "execution_count": 30,
          "metadata": {},
          "output_type": "execute_result"
        }
      ],
      "source": [
        "list(filter(lambda n: n % 2 == 0,nums))"
      ]
    },
    {
      "cell_type": "markdown",
      "metadata": {
        "id": "dON9TDrSMEJr"
      },
      "source": [
        "Here are a few more examples, keep in mind the more comples a function is, the harder it is to translate into a lambda expression, meaning sometimes its just easier (and often the only way) to create the def keyword function."
      ]
    },
    {
      "cell_type": "markdown",
      "metadata": {
        "id": "DUklSxS7MEJs"
      },
      "source": [
        "** Lambda expression for grabbing the first character of a string: **"
      ]
    },
    {
      "cell_type": "code",
      "execution_count": null,
      "metadata": {
        "id": "jOfoxHQ2MEJs",
        "outputId": "b5d308d5-c320-416f-f554-8f6f1914cc69"
      },
      "outputs": [
        {
          "data": {
            "text/plain": [
              "<function __main__.<lambda>>"
            ]
          },
          "execution_count": 31,
          "metadata": {},
          "output_type": "execute_result"
        }
      ],
      "source": [
        "lambda s: s[0]"
      ]
    },
    {
      "cell_type": "markdown",
      "metadata": {
        "id": "3RvAZu4CMEJs"
      },
      "source": [
        "** Lambda expression for reversing a string: **"
      ]
    },
    {
      "cell_type": "code",
      "execution_count": null,
      "metadata": {
        "id": "UM8J2MqzMEJs",
        "outputId": "afeae41d-47c8-4098-913a-36edbcc97108"
      },
      "outputs": [
        {
          "data": {
            "text/plain": [
              "<function __main__.<lambda>>"
            ]
          },
          "execution_count": 32,
          "metadata": {},
          "output_type": "execute_result"
        }
      ],
      "source": [
        "lambda s: s[::-1]"
      ]
    },
    {
      "cell_type": "markdown",
      "metadata": {
        "id": "w9N0OE6vMEJs"
      },
      "source": [
        "You can even pass in multiple arguments into a lambda expression. Again, keep in mind that not every function can be translated into a lambda expression."
      ]
    },
    {
      "cell_type": "code",
      "execution_count": null,
      "metadata": {
        "id": "mCyktUvUMEJs",
        "outputId": "e1542be8-7308-4b45-fee6-8be043b095cc"
      },
      "outputs": [
        {
          "data": {
            "text/plain": [
              "<function __main__.<lambda>>"
            ]
          },
          "execution_count": 34,
          "metadata": {},
          "output_type": "execute_result"
        }
      ],
      "source": [
        "lambda x,y : x + y"
      ]
    },
    {
      "cell_type": "markdown",
      "metadata": {
        "id": "xG9vPTtuMEJt"
      },
      "source": [
        "You will find yourself using lambda expressions often with certain non-built-in libraries, for example the pandas library for data analysis works very well with lambda expressions."
      ]
    }
  ],
  "metadata": {
    "kernelspec": {
      "display_name": "Python 3",
      "language": "python",
      "name": "python3"
    },
    "language_info": {
      "codemirror_mode": {
        "name": "ipython",
        "version": 3
      },
      "file_extension": ".py",
      "mimetype": "text/x-python",
      "name": "python",
      "nbconvert_exporter": "python",
      "pygments_lexer": "ipython3",
      "version": "3.6.6"
    },
    "colab": {
      "provenance": [],
      "include_colab_link": true
    }
  },
  "nbformat": 4,
  "nbformat_minor": 0
}