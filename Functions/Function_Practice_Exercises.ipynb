{
  "cells": [
    {
      "cell_type": "markdown",
      "metadata": {
        "id": "view-in-github",
        "colab_type": "text"
      },
      "source": [
        "<a href=\"https://colab.research.google.com/github/Vivekkgen/Python_GenAI_training/blob/main/Functions/Function_Practice_Exercises.ipynb\" target=\"_parent\"><img src=\"https://colab.research.google.com/assets/colab-badge.svg\" alt=\"Open In Colab\"/></a>"
      ]
    },
    {
      "cell_type": "markdown",
      "metadata": {
        "id": "J0kWydE8BDRK"
      },
      "source": [
        "# Function Practice Exercises\n",
        "\n",
        "Problems are arranged in increasing difficulty:\n",
        "* Warmup - these can be solved using basic comparisons and methods\n",
        "* Level 1 - these may involve if/then conditional statements and simple methods\n",
        "* Level 2 - these may require iterating over sequences, usually with some kind of loop\n",
        "* Challenging - these will take some creativity to solve"
      ]
    },
    {
      "cell_type": "markdown",
      "metadata": {
        "id": "oemMfpLeBDRL"
      },
      "source": [
        "## WARMUP SECTION:"
      ]
    },
    {
      "cell_type": "markdown",
      "metadata": {
        "id": "1haJ7xFZBDRL"
      },
      "source": [
        "#### LESSER OF TWO EVENS: Write a function that returns the lesser of two given numbers *if* both numbers are even, but returns the greater if one or both numbers are odd\n",
        "    lesser_of_two_evens(2,4) --> 2\n",
        "    lesser_of_two_evens(2,5) --> 5"
      ]
    },
    {
      "cell_type": "code",
      "execution_count": 1,
      "metadata": {
        "collapsed": true,
        "id": "KbJDxW4_BDRL"
      },
      "outputs": [],
      "source": [
        "def lesser_of_two_evens(a,b):\n",
        "  if a%2==0 and b%2==0:\n",
        "    if a>b:\n",
        "      return b\n",
        "    else:\n",
        "      return a\n",
        "  else:\n",
        "    if a>b:\n",
        "      return a\n",
        "    else:\n",
        "      return b"
      ]
    },
    {
      "cell_type": "code",
      "execution_count": 2,
      "metadata": {
        "collapsed": true,
        "colab": {
          "base_uri": "https://localhost:8080/"
        },
        "id": "S_DcYSVBBDRM",
        "outputId": "6a59d265-d6a8-41be-c760-820f12bb96fa"
      },
      "outputs": [
        {
          "output_type": "execute_result",
          "data": {
            "text/plain": [
              "2"
            ]
          },
          "metadata": {},
          "execution_count": 2
        }
      ],
      "source": [
        "# Check\n",
        "lesser_of_two_evens(2,4)"
      ]
    },
    {
      "cell_type": "code",
      "execution_count": 3,
      "metadata": {
        "collapsed": true,
        "colab": {
          "base_uri": "https://localhost:8080/"
        },
        "id": "YfRBYrB0BDRM",
        "outputId": "131530d6-8818-44f9-aa56-c4806f5b49dd"
      },
      "outputs": [
        {
          "output_type": "execute_result",
          "data": {
            "text/plain": [
              "5"
            ]
          },
          "metadata": {},
          "execution_count": 3
        }
      ],
      "source": [
        "# Check\n",
        "lesser_of_two_evens(2,5)"
      ]
    },
    {
      "cell_type": "markdown",
      "metadata": {
        "id": "rl8243hdBDRM"
      },
      "source": [
        "#### ANIMAL CRACKERS: Write a function takes a two-word string and returns True if both words begin with same letter\n",
        "    animal_crackers('Levelheaded Llama') --> True\n",
        "    animal_crackers('Crazy Kangaroo') --> False"
      ]
    },
    {
      "cell_type": "code",
      "execution_count": null,
      "metadata": {
        "collapsed": true,
        "id": "y9QpIjBkBDRN"
      },
      "outputs": [],
      "source": [
        "def animal_crackers(text):\n",
        "    pass"
      ]
    },
    {
      "cell_type": "code",
      "execution_count": null,
      "metadata": {
        "collapsed": true,
        "id": "235NlQW3BDRN"
      },
      "outputs": [],
      "source": [
        "# Check\n",
        "animal_crackers('Levelheaded Llama')"
      ]
    },
    {
      "cell_type": "code",
      "execution_count": null,
      "metadata": {
        "collapsed": true,
        "id": "r4tKN8ENBDRN"
      },
      "outputs": [],
      "source": [
        "# Check\n",
        "animal_crackers('Crazy Kangaroo')"
      ]
    },
    {
      "cell_type": "markdown",
      "metadata": {
        "id": "NBDweVnCBDRN"
      },
      "source": [
        "#### MAKES TWENTY: Given two integers, return True if the sum of the integers is 20 *or* if one of the integers is 20. If not, return False\n",
        "\n",
        "    makes_twenty(20,10) --> True\n",
        "    makes_twenty(12,8) --> True\n",
        "    makes_twenty(2,3) --> False"
      ]
    },
    {
      "cell_type": "code",
      "execution_count": null,
      "metadata": {
        "collapsed": true,
        "id": "FJDaaqhKBDRN"
      },
      "outputs": [],
      "source": [
        "def makes_twenty(n1,n2):\n",
        "    pass"
      ]
    },
    {
      "cell_type": "code",
      "execution_count": null,
      "metadata": {
        "collapsed": true,
        "id": "LfhDrryOBDRN"
      },
      "outputs": [],
      "source": [
        "# Check\n",
        "makes_twenty(20,10)"
      ]
    },
    {
      "cell_type": "code",
      "execution_count": null,
      "metadata": {
        "collapsed": true,
        "id": "IKhXmLenBDRO"
      },
      "outputs": [],
      "source": [
        "# Check\n",
        "makes_twenty(2,3)"
      ]
    },
    {
      "cell_type": "markdown",
      "metadata": {
        "id": "evYWAPr_BDRO"
      },
      "source": [
        "# LEVEL 1 PROBLEMS"
      ]
    },
    {
      "cell_type": "markdown",
      "metadata": {
        "id": "lxaiizRyBDRO"
      },
      "source": [
        "#### OLD MACDONALD: Write a function that capitalizes the first and fourth letters of a name\n",
        "     \n",
        "    old_macdonald('macdonald') --> MacDonald\n",
        "    \n",
        "Note: `'macdonald'.capitalize()` returns `'Macdonald'`"
      ]
    },
    {
      "cell_type": "code",
      "execution_count": null,
      "metadata": {
        "collapsed": true,
        "id": "R4ekHx5OBDRO"
      },
      "outputs": [],
      "source": [
        "def old_macdonald(name):\n",
        "    pass"
      ]
    },
    {
      "cell_type": "code",
      "execution_count": null,
      "metadata": {
        "collapsed": true,
        "id": "7bMC99SJBDRO"
      },
      "outputs": [],
      "source": [
        "# Check\n",
        "old_macdonald('macdonald')"
      ]
    },
    {
      "cell_type": "markdown",
      "metadata": {
        "id": "MRXycAJ5BDRO"
      },
      "source": [
        "#### MASTER YODA: Given a sentence, return a sentence with the words reversed\n",
        "\n",
        "    master_yoda('I am home') --> 'home am I'\n",
        "    master_yoda('We are ready') --> 'ready are We'\n",
        "    \n",
        "Note: The .join() method may be useful here. The .join() method allows you to join together strings in a list with some connector string. For example, some uses of the .join() method:\n",
        "\n",
        "    >>> \"--\".join(['a','b','c'])\n",
        "    >>> 'a--b--c'\n",
        "\n",
        "This means if you had a list of words you wanted to turn back into a sentence, you could just join them with a single space string:\n",
        "\n",
        "    >>> \" \".join(['Hello','world'])\n",
        "    >>> \"Hello world\""
      ]
    },
    {
      "cell_type": "code",
      "execution_count": null,
      "metadata": {
        "collapsed": true,
        "id": "678C8alrBDRO"
      },
      "outputs": [],
      "source": [
        "def master_yoda(text):\n",
        "    pass"
      ]
    },
    {
      "cell_type": "code",
      "execution_count": null,
      "metadata": {
        "collapsed": true,
        "id": "5Qb0taJTBDRO"
      },
      "outputs": [],
      "source": [
        "# Check\n",
        "master_yoda('I am home')"
      ]
    },
    {
      "cell_type": "code",
      "execution_count": null,
      "metadata": {
        "collapsed": true,
        "id": "DM_wnFfuBDRO"
      },
      "outputs": [],
      "source": [
        "# Check\n",
        "master_yoda('We are ready')"
      ]
    },
    {
      "cell_type": "markdown",
      "metadata": {
        "id": "h9QRWhW7BDRP"
      },
      "source": [
        "#### ALMOST THERE: Given an integer n, return True if n is within 10 of either 100 or 200\n",
        "\n",
        "    almost_there(90) --> True\n",
        "    almost_there(104) --> True\n",
        "    almost_there(150) --> False\n",
        "    almost_there(209) --> True\n",
        "    \n",
        "NOTE: `abs(num)` returns the absolute value of a number"
      ]
    },
    {
      "cell_type": "code",
      "execution_count": null,
      "metadata": {
        "collapsed": true,
        "id": "rA-1ge7NBDRP"
      },
      "outputs": [],
      "source": [
        "def almost_there(n):\n",
        "    pass"
      ]
    },
    {
      "cell_type": "code",
      "execution_count": null,
      "metadata": {
        "collapsed": true,
        "id": "g3HOY7gnBDRP"
      },
      "outputs": [],
      "source": [
        "# Check\n",
        "almost_there(104)"
      ]
    },
    {
      "cell_type": "code",
      "execution_count": null,
      "metadata": {
        "collapsed": true,
        "id": "qS9RZGImBDRP"
      },
      "outputs": [],
      "source": [
        "# Check\n",
        "almost_there(150)"
      ]
    },
    {
      "cell_type": "code",
      "execution_count": null,
      "metadata": {
        "collapsed": true,
        "id": "my2GtjLsBDRP"
      },
      "outputs": [],
      "source": [
        "# Check\n",
        "almost_there(209)"
      ]
    },
    {
      "cell_type": "markdown",
      "metadata": {
        "id": "xEnpFX3_BDRP"
      },
      "source": [
        "# LEVEL 2 PROBLEMS"
      ]
    },
    {
      "cell_type": "markdown",
      "metadata": {
        "id": "gnHOYMYnBDRP"
      },
      "source": [
        "#### FIND 33:\n",
        "\n",
        "Given a list of ints, return True if the array contains a 3 next to a 3 somewhere.\n",
        "\n",
        "    has_33([1, 3, 3]) → True\n",
        "    has_33([1, 3, 1, 3]) → False\n",
        "    has_33([3, 1, 3]) → False"
      ]
    },
    {
      "cell_type": "code",
      "execution_count": null,
      "metadata": {
        "collapsed": true,
        "id": "R1_l9As_BDRP"
      },
      "outputs": [],
      "source": [
        "def has_33(nums):\n",
        "    pass"
      ]
    },
    {
      "cell_type": "code",
      "execution_count": null,
      "metadata": {
        "collapsed": true,
        "id": "kSXZYK3xBDRP"
      },
      "outputs": [],
      "source": [
        "# Check\n",
        "has_33([1, 3, 3])"
      ]
    },
    {
      "cell_type": "code",
      "execution_count": null,
      "metadata": {
        "collapsed": true,
        "id": "q7tKhmeuBDRQ"
      },
      "outputs": [],
      "source": [
        "# Check\n",
        "has_33([1, 3, 1, 3])"
      ]
    },
    {
      "cell_type": "code",
      "execution_count": null,
      "metadata": {
        "collapsed": true,
        "id": "prA3VDxjBDRQ"
      },
      "outputs": [],
      "source": [
        "# Check\n",
        "has_33([3, 1, 3])"
      ]
    },
    {
      "cell_type": "markdown",
      "metadata": {
        "id": "AFEFz0lABDRQ"
      },
      "source": [
        "#### PAPER DOLL: Given a string, return a string where for every character in the original there are three characters\n",
        "    paper_doll('Hello') --> 'HHHeeellllllooo'\n",
        "    paper_doll('Mississippi') --> 'MMMiiissssssiiippppppiii'"
      ]
    },
    {
      "cell_type": "code",
      "execution_count": null,
      "metadata": {
        "collapsed": true,
        "id": "OQPhbe_9BDRQ"
      },
      "outputs": [],
      "source": [
        "def paper_doll(text):\n",
        "    pass"
      ]
    },
    {
      "cell_type": "code",
      "execution_count": null,
      "metadata": {
        "collapsed": true,
        "id": "c7-uZU0PBDRQ"
      },
      "outputs": [],
      "source": [
        "# Check\n",
        "paper_doll('Hello')"
      ]
    },
    {
      "cell_type": "code",
      "execution_count": null,
      "metadata": {
        "collapsed": true,
        "id": "Nw_JfSopBDRQ"
      },
      "outputs": [],
      "source": [
        "# Check\n",
        "paper_doll('Mississippi')"
      ]
    },
    {
      "cell_type": "markdown",
      "metadata": {
        "id": "KJ2B4EteBDRQ"
      },
      "source": [
        "#### BLACKJACK: Given three integers between 1 and 11, if their sum is less than or equal to 21, return their sum. If their sum exceeds 21 *and* there's an eleven, reduce the total sum by 10. Finally, if the sum (even after adjustment) exceeds 21, return 'BUST'\n",
        "    blackjack(5,6,7) --> 18\n",
        "    blackjack(9,9,9) --> 'BUST'\n",
        "    blackjack(9,9,11) --> 19"
      ]
    },
    {
      "cell_type": "code",
      "execution_count": null,
      "metadata": {
        "collapsed": true,
        "id": "j5qT2UhgBDRR"
      },
      "outputs": [],
      "source": [
        "def blackjack(a,b,c):\n",
        "    pass"
      ]
    },
    {
      "cell_type": "code",
      "execution_count": null,
      "metadata": {
        "collapsed": true,
        "id": "XcmR1bsPBDRR"
      },
      "outputs": [],
      "source": [
        "# Check\n",
        "blackjack(5,6,7)"
      ]
    },
    {
      "cell_type": "code",
      "execution_count": null,
      "metadata": {
        "collapsed": true,
        "id": "8kcSuiYLBDRR"
      },
      "outputs": [],
      "source": [
        "# Check\n",
        "blackjack(9,9,9)"
      ]
    },
    {
      "cell_type": "code",
      "execution_count": null,
      "metadata": {
        "collapsed": true,
        "id": "Xqkc1j5lBDRR"
      },
      "outputs": [],
      "source": [
        "# Check\n",
        "blackjack(9,9,11)"
      ]
    },
    {
      "cell_type": "markdown",
      "metadata": {
        "id": "UO7GXJWMBDRR"
      },
      "source": [
        "#### SUMMER OF '69: Return the sum of the numbers in the array, except ignore sections of numbers starting with a 6 and extending to the next 9 (every 6 will be followed by at least one 9). Return 0 for no numbers.\n",
        "\n",
        "    summer_69([1, 3, 5]) --> 9\n",
        "    summer_69([4, 5, 6, 7, 8, 9]) --> 9\n",
        "    summer_69([2, 1, 6, 9, 11]) --> 14"
      ]
    },
    {
      "cell_type": "code",
      "execution_count": null,
      "metadata": {
        "collapsed": true,
        "id": "tAEiyEGKBDRR"
      },
      "outputs": [],
      "source": [
        "def summer_69(arr):\n",
        "    pass"
      ]
    },
    {
      "cell_type": "code",
      "execution_count": null,
      "metadata": {
        "collapsed": true,
        "id": "8qbNGKS1BDRR"
      },
      "outputs": [],
      "source": [
        "# Check\n",
        "summer_69([1, 3, 5])"
      ]
    },
    {
      "cell_type": "code",
      "execution_count": null,
      "metadata": {
        "collapsed": true,
        "id": "s4cuxxdZBDRR"
      },
      "outputs": [],
      "source": [
        "# Check\n",
        "summer_69([4, 5, 6, 7, 8, 9])"
      ]
    },
    {
      "cell_type": "code",
      "execution_count": null,
      "metadata": {
        "collapsed": true,
        "id": "E4jesU_VBDRR"
      },
      "outputs": [],
      "source": [
        "# Check\n",
        "summer_69([2, 1, 6, 9, 11])"
      ]
    },
    {
      "cell_type": "markdown",
      "metadata": {
        "id": "ihgxQFMjBDRS"
      },
      "source": [
        "# CHALLENGING PROBLEMS"
      ]
    },
    {
      "cell_type": "markdown",
      "metadata": {
        "id": "G-Adi2lkBDRS"
      },
      "source": [
        "#### SPY GAME: Write a function that takes in a list of integers and returns True if it contains 007 in order\n",
        "\n",
        "     spy_game([1,2,4,0,0,7,5]) --> True\n",
        "     spy_game([1,0,2,4,0,5,7]) --> True\n",
        "     spy_game([1,7,2,0,4,5,0]) --> False\n"
      ]
    },
    {
      "cell_type": "code",
      "execution_count": null,
      "metadata": {
        "collapsed": true,
        "id": "gzbxsfIHBDRS"
      },
      "outputs": [],
      "source": [
        "def spy_game(nums):\n",
        "    pass"
      ]
    },
    {
      "cell_type": "code",
      "execution_count": null,
      "metadata": {
        "collapsed": true,
        "id": "9p6x5unABDRS"
      },
      "outputs": [],
      "source": [
        "# Check\n",
        "spy_game([1,2,4,0,0,7,5])"
      ]
    },
    {
      "cell_type": "code",
      "execution_count": null,
      "metadata": {
        "collapsed": true,
        "id": "xDCs82CFBDRS"
      },
      "outputs": [],
      "source": [
        "# Check\n",
        "spy_game([1,0,2,4,0,5,7])"
      ]
    },
    {
      "cell_type": "code",
      "execution_count": null,
      "metadata": {
        "collapsed": true,
        "id": "QEVvda0nBDRS"
      },
      "outputs": [],
      "source": [
        "# Check\n",
        "spy_game([1,7,2,0,4,5,0])"
      ]
    },
    {
      "cell_type": "markdown",
      "metadata": {
        "id": "yxSM94VcBDRS"
      },
      "source": [
        "#### COUNT PRIMES: Write a function that returns the *number* of prime numbers that exist up to and including a given number\n",
        "    count_primes(100) --> 25\n",
        "\n",
        "By convention, 0 and 1 are not prime."
      ]
    },
    {
      "cell_type": "code",
      "execution_count": null,
      "metadata": {
        "collapsed": true,
        "id": "qbxiidMtBDRS"
      },
      "outputs": [],
      "source": [
        "def count_primes(num):\n",
        "    pass\n",
        ""
      ]
    },
    {
      "cell_type": "code",
      "execution_count": null,
      "metadata": {
        "collapsed": true,
        "id": "1t6BSNLmBDRS"
      },
      "outputs": [],
      "source": [
        "# Check\n",
        "count_primes(100)"
      ]
    },
    {
      "cell_type": "markdown",
      "metadata": {
        "id": "SfyEbAlRBDRS"
      },
      "source": [
        "### Just for fun:\n",
        "#### PRINT BIG: Write a function that takes in a single letter, and returns a 5x5 representation of that letter\n",
        "    print_big('a')\n",
        "    \n",
        "    out:   *  \n",
        "          * *\n",
        "         *****\n",
        "         *   *\n",
        "         *   *\n",
        "HINT: Consider making a dictionary of possible patterns, and mapping the alphabet to specific 5-line combinations of patterns. <br>For purposes of this exercise, it's ok if your dictionary stops at \"E\"."
      ]
    },
    {
      "cell_type": "code",
      "execution_count": null,
      "metadata": {
        "collapsed": true,
        "id": "rIrSOLGuBDRS"
      },
      "outputs": [],
      "source": [
        "def print_big(letter):\n",
        "    pass"
      ]
    },
    {
      "cell_type": "code",
      "execution_count": null,
      "metadata": {
        "collapsed": true,
        "id": "Mr00Zj-_BDRS"
      },
      "outputs": [],
      "source": [
        "print_big('a')"
      ]
    },
    {
      "cell_type": "markdown",
      "metadata": {
        "id": "SsVe23HWBDRS"
      },
      "source": [
        "## Great Job!"
      ]
    }
  ],
  "metadata": {
    "kernelspec": {
      "display_name": "Python 3",
      "language": "python",
      "name": "python3"
    },
    "language_info": {
      "codemirror_mode": {
        "name": "ipython",
        "version": 3
      },
      "file_extension": ".py",
      "mimetype": "text/x-python",
      "name": "python",
      "nbconvert_exporter": "python",
      "pygments_lexer": "ipython3",
      "version": "3.6.6"
    },
    "colab": {
      "provenance": [],
      "include_colab_link": true
    }
  },
  "nbformat": 4,
  "nbformat_minor": 0
}