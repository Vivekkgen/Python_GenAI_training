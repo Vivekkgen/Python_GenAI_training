{
  "cells": [
    {
      "cell_type": "markdown",
      "metadata": {
        "id": "view-in-github",
        "colab_type": "text"
      },
      "source": [
        "<a href=\"https://colab.research.google.com/github/Vivekkgen/Python_GenAI_training/blob/main/Functions/02_Functions.ipynb\" target=\"_parent\"><img src=\"https://colab.research.google.com/assets/colab-badge.svg\" alt=\"Open In Colab\"/></a>"
      ]
    },
    {
      "cell_type": "markdown",
      "metadata": {
        "id": "sqV2UIIgLfBR"
      },
      "source": [
        "# Functions\n",
        "\n",
        "## Introduction to Functions\n",
        "\n",
        "This lecture will consist of explaining what a function is in Python and how to create one. Functions will be one of our main building blocks when we construct larger and larger amounts of code to solve problems.\n",
        "\n",
        "### What is a function?\n",
        "\n",
        "Formally, a function is a useful device that groups together a set of statements so they can be run more than once. They can also let us specify parameters that can serve as inputs to the functions.\n",
        "\n",
        "On a more fundamental level, functions allow us to not have to repeatedly write the same code again and again. If you remember back to the lessons on strings and lists, remember that we used a function len() to get the length of a string. Since checking the length of a sequence is a common task you would want to write a function that can do this repeatedly at command.\n",
        "\n",
        "Functions will be one of most basic levels of reusing code in Python, and it will also allow us to start thinking of program design (we will dive much deeper into the ideas of design when we learn about Object Oriented Programming)."
      ]
    },
    {
      "cell_type": "markdown",
      "metadata": {
        "id": "yd5goBG2LfBS"
      },
      "source": [
        "### Why even use functions?\n",
        "\n",
        "Put simply, you should use functions when you plan on using a block of code multiple times. The function will allow you to call the same block of code without having to write it multiple times. This in turn will allow you to create more complex Python scripts. To really understand this though, we should actually write our own functions!"
      ]
    },
    {
      "cell_type": "markdown",
      "metadata": {
        "id": "HBnvpaQTLfBS"
      },
      "source": [
        "## Function Topics\n",
        "* def keyword\n",
        "* simple example of a function\n",
        "* calling a function with ()\n",
        "* accepting parameters\n",
        "* print versus return\n",
        "* adding in logic inside a function\n",
        "* multiple returns inside a function\n",
        "* adding in loops inside a function\n",
        "* tuple unpacking\n",
        "* interactions between functions"
      ]
    },
    {
      "cell_type": "markdown",
      "metadata": {
        "id": "QJRGVVfPLfBS"
      },
      "source": [
        "### def keyword\n",
        "\n",
        "Let's see how to build out a function's syntax in Python. It has the following form:"
      ]
    },
    {
      "cell_type": "code",
      "execution_count": null,
      "metadata": {
        "collapsed": true,
        "id": "dcsZbp-NLfBS"
      },
      "outputs": [],
      "source": [
        "def name_of_function(arg1,arg2):\n",
        "    '''\n",
        "    This is where the function's Document String (docstring) goes.\n",
        "    When you call help() on your function it will be printed out.\n",
        "    '''\n",
        "    # Do stuff here\n",
        "    # Return desired result"
      ]
    },
    {
      "cell_type": "markdown",
      "metadata": {
        "id": "QuDlv8w0LfBT"
      },
      "source": [
        "We begin with <code>def</code> then a space followed by the name of the function. Try to keep names relevant, for example len() is a good name for a length() function. Also be careful with names, you wouldn't want to call a function the same name as a [built-in function in Python](https://docs.python.org/3/library/functions.html) (such as len).\n",
        "\n",
        "Next come a pair of parentheses with a number of arguments separated by a comma. These arguments are the inputs for your function. You'll be able to use these inputs in your function and reference them. After this you put a colon.\n",
        "\n",
        "Now here is the important step, you must indent to begin the code inside your function correctly. Python makes use of *whitespace* to organize code. Lots of other programing languages do not do this, so keep that in mind.\n",
        "\n",
        "Next you'll see the docstring, this is where you write a basic description of the function. Using Jupyter and Jupyter Notebooks, you'll be able to read these docstrings by pressing Shift+Tab after a function name. Docstrings are not necessary for simple functions, but it's good practice to put them in so you or other people can easily understand the code you write.\n",
        "\n",
        "After all this you begin writing the code you wish to execute.\n",
        "\n",
        "The best way to learn functions is by going through examples. So let's try to go through examples that relate back to the various objects and data structures we learned about before."
      ]
    },
    {
      "cell_type": "markdown",
      "metadata": {
        "id": "ZmuLvZUVLfBT"
      },
      "source": [
        "### Simple example of a function"
      ]
    },
    {
      "cell_type": "code",
      "execution_count": null,
      "metadata": {
        "collapsed": true,
        "id": "WKCbKYYfLfBT"
      },
      "outputs": [],
      "source": [
        "def say_hello():\n",
        "    print('hello')"
      ]
    },
    {
      "cell_type": "markdown",
      "metadata": {
        "id": "WuZwj8txLfBT"
      },
      "source": [
        "### Calling a function with ()"
      ]
    },
    {
      "cell_type": "markdown",
      "metadata": {
        "id": "ubX9tl16LfBT"
      },
      "source": [
        "Call the function:"
      ]
    },
    {
      "cell_type": "code",
      "execution_count": null,
      "metadata": {
        "id": "zKJzSCz4LfBU",
        "outputId": "e5e73b60-05eb-4fe9-c2b9-c1af773bcaf3"
      },
      "outputs": [
        {
          "name": "stdout",
          "output_type": "stream",
          "text": [
            "hello\n"
          ]
        }
      ],
      "source": [
        "say_hello()"
      ]
    },
    {
      "cell_type": "markdown",
      "metadata": {
        "id": "-xCHLqcnLfBU"
      },
      "source": [
        "If you forget the parenthesis (), it will simply display the fact that say_hello is a function. Later on we will learn we can actually pass in functions into other functions! But for now, simply remember to call functions with ()."
      ]
    },
    {
      "cell_type": "code",
      "execution_count": null,
      "metadata": {
        "id": "IeidkHErLfBU",
        "outputId": "f94feb46-80e1-4dc8-9db0-66d9e6194c38"
      },
      "outputs": [
        {
          "data": {
            "text/plain": [
              "<function __main__.say_hello>"
            ]
          },
          "execution_count": 7,
          "metadata": {},
          "output_type": "execute_result"
        }
      ],
      "source": [
        "say_hello"
      ]
    },
    {
      "cell_type": "markdown",
      "metadata": {
        "id": "87bh9F8QLfBU"
      },
      "source": [
        "### Accepting parameters (arguments)\n",
        "Let's write a function that greets people with their name."
      ]
    },
    {
      "cell_type": "code",
      "execution_count": null,
      "metadata": {
        "collapsed": true,
        "id": "H9dh4-6ULfBU"
      },
      "outputs": [],
      "source": [
        "def greeting(name):\n",
        "    print(f'Hello {name}')"
      ]
    },
    {
      "cell_type": "code",
      "execution_count": null,
      "metadata": {
        "id": "86m9HPZoLfBV",
        "outputId": "b25d03a1-d478-427d-df0c-b8000dbac31d"
      },
      "outputs": [
        {
          "name": "stdout",
          "output_type": "stream",
          "text": [
            "Hello Jose\n"
          ]
        }
      ],
      "source": [
        "greeting('Jose')"
      ]
    },
    {
      "cell_type": "markdown",
      "metadata": {
        "id": "kJRJ-pASLfBV"
      },
      "source": [
        "## Using return\n",
        "So far we've only seen print() used, but if we actually want to save the resulting variable we need to use the **return** keyword.\n",
        "\n",
        "Let's see some example that use a <code>return</code> statement. <code>return</code> allows a function to *return* a result that can then be stored as a variable, or used in whatever manner a user wants.\n",
        "\n",
        "### Example: Addition function"
      ]
    },
    {
      "cell_type": "code",
      "execution_count": null,
      "metadata": {
        "collapsed": true,
        "id": "zAzeX_AmLfBV"
      },
      "outputs": [],
      "source": [
        "def add_num(num1,num2):\n",
        "    return num1+num2"
      ]
    },
    {
      "cell_type": "code",
      "execution_count": null,
      "metadata": {
        "id": "PZ5InWGTLfBV",
        "outputId": "c033cf45-bb35-4b16-c963-02a9f2ece9ee"
      },
      "outputs": [
        {
          "data": {
            "text/plain": [
              "9"
            ]
          },
          "execution_count": 7,
          "metadata": {},
          "output_type": "execute_result"
        }
      ],
      "source": [
        "add_num(4,5)"
      ]
    },
    {
      "cell_type": "code",
      "execution_count": null,
      "metadata": {
        "collapsed": true,
        "id": "wfxcmvD4LfBV"
      },
      "outputs": [],
      "source": [
        "# Can also save as variable due to return\n",
        "result = add_num(4,5)"
      ]
    },
    {
      "cell_type": "code",
      "execution_count": null,
      "metadata": {
        "id": "Q11byOvILfBV",
        "outputId": "209f8603-9f3f-491b-86ba-3a7f189731e2"
      },
      "outputs": [
        {
          "name": "stdout",
          "output_type": "stream",
          "text": [
            "9\n"
          ]
        }
      ],
      "source": [
        "print(result)"
      ]
    },
    {
      "cell_type": "markdown",
      "metadata": {
        "id": "ax9t7CvqLfBV"
      },
      "source": [
        "What happens if we input two strings?"
      ]
    },
    {
      "cell_type": "code",
      "execution_count": null,
      "metadata": {
        "id": "jl_L4hK7LfBV",
        "outputId": "93af5af3-1a16-4c23-ddcf-d2d67c0984d2"
      },
      "outputs": [
        {
          "data": {
            "text/plain": [
              "'onetwo'"
            ]
          },
          "execution_count": 10,
          "metadata": {},
          "output_type": "execute_result"
        }
      ],
      "source": [
        "add_num('one','two')"
      ]
    },
    {
      "cell_type": "markdown",
      "metadata": {
        "id": "lp5XvahoLfBV"
      },
      "source": [
        "## Very Common Question: \"What is the difference between *return* and *print*?\"\n",
        "\n",
        "**The return keyword allows you to actually save the result of the output of a function as a variable. The print() function simply displays the output to you, but doesn't save it for future use. Let's explore this in more detail**"
      ]
    },
    {
      "cell_type": "code",
      "execution_count": null,
      "metadata": {
        "collapsed": true,
        "id": "_O1dhyRHLfBV"
      },
      "outputs": [],
      "source": [
        "def print_result(a,b):\n",
        "    print(a+b)"
      ]
    },
    {
      "cell_type": "code",
      "execution_count": null,
      "metadata": {
        "collapsed": true,
        "id": "oPfMWEb6LfBW"
      },
      "outputs": [],
      "source": [
        "def return_result(a,b):\n",
        "    return a+b"
      ]
    },
    {
      "cell_type": "code",
      "execution_count": null,
      "metadata": {
        "id": "ZKTAotliLfBW",
        "outputId": "8c5cdb42-7e83-4f98-d71b-f777131fcda6"
      },
      "outputs": [
        {
          "name": "stdout",
          "output_type": "stream",
          "text": [
            "15\n"
          ]
        }
      ],
      "source": [
        "print_result(10,5)"
      ]
    },
    {
      "cell_type": "code",
      "execution_count": null,
      "metadata": {
        "id": "Qe6dFLp9LfBW",
        "outputId": "e45ba86a-9ed9-49f2-81ee-a7f34363dbe3"
      },
      "outputs": [
        {
          "data": {
            "text/plain": [
              "15"
            ]
          },
          "execution_count": 4,
          "metadata": {},
          "output_type": "execute_result"
        }
      ],
      "source": [
        "# You won't see any output if you run this in a .py script\n",
        "return_result(10,5)"
      ]
    },
    {
      "cell_type": "markdown",
      "metadata": {
        "id": "dTzb-kuMLfBW"
      },
      "source": [
        "**But what happens if we actually want to save this result for later use?**"
      ]
    },
    {
      "cell_type": "code",
      "execution_count": null,
      "metadata": {
        "id": "xZL7O5EzLfBW",
        "outputId": "1a697de3-ca74-41c9-cf81-668576861fd1"
      },
      "outputs": [
        {
          "name": "stdout",
          "output_type": "stream",
          "text": [
            "40\n"
          ]
        }
      ],
      "source": [
        "my_result = print_result(20,20)"
      ]
    },
    {
      "cell_type": "code",
      "execution_count": null,
      "metadata": {
        "collapsed": true,
        "id": "wEnB5C7NLfBW"
      },
      "outputs": [],
      "source": [
        "my_result"
      ]
    },
    {
      "cell_type": "code",
      "execution_count": null,
      "metadata": {
        "id": "0YLo2VoYLfBW",
        "outputId": "e712257d-b256-4b28-a507-d71928fa072b"
      },
      "outputs": [
        {
          "data": {
            "text/plain": [
              "NoneType"
            ]
          },
          "execution_count": 7,
          "metadata": {},
          "output_type": "execute_result"
        }
      ],
      "source": [
        "type(my_result)"
      ]
    },
    {
      "cell_type": "markdown",
      "metadata": {
        "id": "fhZM3H5xLfBW"
      },
      "source": [
        "**Be careful! Notice how print_result() doesn't let you actually save the result to a variable! It only prints it out, with print() returning None for the assignment!**"
      ]
    },
    {
      "cell_type": "code",
      "execution_count": null,
      "metadata": {
        "collapsed": true,
        "id": "Pw0H-Tz3LfBW"
      },
      "outputs": [],
      "source": [
        "my_result = return_result(20,20)"
      ]
    },
    {
      "cell_type": "code",
      "execution_count": null,
      "metadata": {
        "id": "g6nOotR8LfBX",
        "outputId": "e42d5ae6-4d0d-482e-be0a-5f97bc1db229"
      },
      "outputs": [
        {
          "data": {
            "text/plain": [
              "40"
            ]
          },
          "execution_count": 9,
          "metadata": {},
          "output_type": "execute_result"
        }
      ],
      "source": [
        "my_result"
      ]
    },
    {
      "cell_type": "code",
      "execution_count": null,
      "metadata": {
        "id": "HBVeekPzLfBX",
        "outputId": "2d295788-486a-423c-c6bf-04b87407b7d2"
      },
      "outputs": [
        {
          "data": {
            "text/plain": [
              "80"
            ]
          },
          "execution_count": 10,
          "metadata": {},
          "output_type": "execute_result"
        }
      ],
      "source": [
        "my_result + my_result"
      ]
    },
    {
      "cell_type": "markdown",
      "metadata": {
        "id": "wBS4LOx3LfBX"
      },
      "source": [
        "# Adding Logic to Internal Function Operations\n",
        "\n",
        "So far we know quite a bit about constructing logical statements with Python, such as if/else/elif statements, for and while loops, checking if an item is **in** a list or **not in** a list (Useful Operators Lecture). Let's now see how we can perform these operations within a function."
      ]
    },
    {
      "cell_type": "markdown",
      "metadata": {
        "id": "fg8Vwo-NLfBX"
      },
      "source": [
        "### Check if a number is even"
      ]
    },
    {
      "cell_type": "markdown",
      "metadata": {
        "id": "MscRgIuWLfBY"
      },
      "source": [
        "**Recall the mod operator % which returns the remainder after division, if a number is even then mod 2 (% 2) should be == to zero.**"
      ]
    },
    {
      "cell_type": "code",
      "execution_count": null,
      "metadata": {
        "id": "dOcGGgroLfBY",
        "outputId": "97ab4b9b-0f37-4b72-e411-20d89773eaad"
      },
      "outputs": [
        {
          "data": {
            "text/plain": [
              "0"
            ]
          },
          "execution_count": 11,
          "metadata": {},
          "output_type": "execute_result"
        }
      ],
      "source": [
        "2 % 2"
      ]
    },
    {
      "cell_type": "code",
      "execution_count": null,
      "metadata": {
        "id": "2Q9A8zFLLfBY",
        "outputId": "55943577-34fb-4cc6-ef90-401f45457833"
      },
      "outputs": [
        {
          "data": {
            "text/plain": [
              "0"
            ]
          },
          "execution_count": 12,
          "metadata": {},
          "output_type": "execute_result"
        }
      ],
      "source": [
        "20 % 2"
      ]
    },
    {
      "cell_type": "code",
      "execution_count": null,
      "metadata": {
        "id": "s-biGK_ALfBY",
        "outputId": "20d51dac-032f-4978-b721-125d465b710d"
      },
      "outputs": [
        {
          "data": {
            "text/plain": [
              "1"
            ]
          },
          "execution_count": 14,
          "metadata": {},
          "output_type": "execute_result"
        }
      ],
      "source": [
        "21 % 2"
      ]
    },
    {
      "cell_type": "code",
      "execution_count": null,
      "metadata": {
        "id": "a8pKKlBVLfBY",
        "outputId": "6de1f333-6e7c-4b67-d9e6-fab85cd7752f"
      },
      "outputs": [
        {
          "data": {
            "text/plain": [
              "True"
            ]
          },
          "execution_count": 15,
          "metadata": {},
          "output_type": "execute_result"
        }
      ],
      "source": [
        "20 % 2 == 0"
      ]
    },
    {
      "cell_type": "code",
      "execution_count": null,
      "metadata": {
        "id": "NFtjDCEGLfBY",
        "outputId": "7e31765f-f80f-49af-828d-907410d79275"
      },
      "outputs": [
        {
          "data": {
            "text/plain": [
              "False"
            ]
          },
          "execution_count": 16,
          "metadata": {},
          "output_type": "execute_result"
        }
      ],
      "source": [
        "21 % 2 == 0"
      ]
    },
    {
      "cell_type": "markdown",
      "metadata": {
        "id": "UAt_Dz03LfBY"
      },
      "source": [
        "** Let's use this to construct a function. Notice how we simply return the boolean check.**"
      ]
    },
    {
      "cell_type": "code",
      "execution_count": null,
      "metadata": {
        "collapsed": true,
        "id": "xg1XR3z6LfBZ"
      },
      "outputs": [],
      "source": [
        "def even_check(number):\n",
        "    return number % 2 == 0"
      ]
    },
    {
      "cell_type": "code",
      "execution_count": null,
      "metadata": {
        "id": "vZeRJ8zTLfBZ",
        "outputId": "8544f84e-a011-4939-e574-0f88ff592f36"
      },
      "outputs": [
        {
          "data": {
            "text/plain": [
              "True"
            ]
          },
          "execution_count": 19,
          "metadata": {},
          "output_type": "execute_result"
        }
      ],
      "source": [
        "even_check(20)"
      ]
    },
    {
      "cell_type": "code",
      "execution_count": null,
      "metadata": {
        "id": "tA3e-PfdLfBZ",
        "outputId": "ced2c170-6b83-43fc-b36d-c9e256d2ace5"
      },
      "outputs": [
        {
          "data": {
            "text/plain": [
              "False"
            ]
          },
          "execution_count": 21,
          "metadata": {},
          "output_type": "execute_result"
        }
      ],
      "source": [
        "even_check(21)"
      ]
    },
    {
      "cell_type": "markdown",
      "metadata": {
        "id": "Q31CPTDWLfBZ"
      },
      "source": [
        "### Check if any number in  a list is even\n",
        "\n",
        "Let's return a boolean indicating if **any** number in a list is even. Notice here how **return** breaks out of the loop and exits the function"
      ]
    },
    {
      "cell_type": "code",
      "execution_count": null,
      "metadata": {
        "collapsed": true,
        "id": "9ijbBmkQLfBZ"
      },
      "outputs": [],
      "source": [
        "def check_even_list(num_list):\n",
        "    # Go through each number\n",
        "    for number in num_list:\n",
        "        # Once we get a \"hit\" on an even number, we return True\n",
        "        if number % 2 == 0:\n",
        "            return True\n",
        "        # Otherwise we don't do anything\n",
        "        else:\n",
        "            pass"
      ]
    },
    {
      "cell_type": "markdown",
      "metadata": {
        "id": "1aLBGa6yLfBZ"
      },
      "source": [
        "** Is this enough? NO! We're not returning anything if they are all odds!**"
      ]
    },
    {
      "cell_type": "code",
      "execution_count": null,
      "metadata": {
        "id": "ZiO-RUgtLfBZ",
        "outputId": "4e2178f5-4ef5-4113-bee3-e029df91a00c"
      },
      "outputs": [
        {
          "data": {
            "text/plain": [
              "True"
            ]
          },
          "execution_count": 26,
          "metadata": {},
          "output_type": "execute_result"
        }
      ],
      "source": [
        "check_even_list([1,2,3])"
      ]
    },
    {
      "cell_type": "code",
      "execution_count": null,
      "metadata": {
        "collapsed": true,
        "id": "L84nxSXPLfBa"
      },
      "outputs": [],
      "source": [
        "check_even_list([1,1,1])"
      ]
    },
    {
      "cell_type": "markdown",
      "metadata": {
        "id": "yieGCbQ6LfBa"
      },
      "source": [
        "** VERY COMMON MISTAKE!! LET'S SEE A COMMON LOGIC ERROR, NOTE THIS IS WRONG!!!**"
      ]
    },
    {
      "cell_type": "code",
      "execution_count": null,
      "metadata": {
        "collapsed": true,
        "id": "b3DwWn9BLfBa"
      },
      "outputs": [],
      "source": [
        "def check_even_list(num_list):\n",
        "    # Go through each number\n",
        "    for number in num_list:\n",
        "        # Once we get a \"hit\" on an even number, we return True\n",
        "        if number % 2 == 0:\n",
        "            return True\n",
        "        # This is WRONG! This returns False at the very first odd number!\n",
        "        # It doesn't end up checking the other numbers in the list!\n",
        "        else:\n",
        "            return False"
      ]
    },
    {
      "cell_type": "code",
      "execution_count": null,
      "metadata": {
        "id": "aVCHnluyLfBa",
        "outputId": "54a8a423-6988-413d-cc1d-b5e5f9088618"
      },
      "outputs": [
        {
          "data": {
            "text/plain": [
              "False"
            ]
          },
          "execution_count": 30,
          "metadata": {},
          "output_type": "execute_result"
        }
      ],
      "source": [
        "# UH OH! It is returning False after hitting the first 1\n",
        "check_even_list([1,2,3])"
      ]
    },
    {
      "cell_type": "markdown",
      "metadata": {
        "id": "zeH16h6ULfBa"
      },
      "source": [
        "** Correct Approach: We need to initiate a return False AFTER running through the entire loop**"
      ]
    },
    {
      "cell_type": "code",
      "execution_count": null,
      "metadata": {
        "collapsed": true,
        "id": "Vycv5KO4LfBb"
      },
      "outputs": [],
      "source": [
        "def check_even_list(num_list):\n",
        "    # Go through each number\n",
        "    for number in num_list:\n",
        "        # Once we get a \"hit\" on an even number, we return True\n",
        "        if number % 2 == 0:\n",
        "            return True\n",
        "        # Don't do anything if its not even\n",
        "        else:\n",
        "            pass\n",
        "    # Notice the indentation! This ensures we run through the entire for loop\n",
        "    return False"
      ]
    },
    {
      "cell_type": "code",
      "execution_count": null,
      "metadata": {
        "id": "RVdfu0kgLfBb",
        "outputId": "934d6122-2fc8-4b05-bcda-ddf641bfb785"
      },
      "outputs": [
        {
          "data": {
            "text/plain": [
              "True"
            ]
          },
          "execution_count": 32,
          "metadata": {},
          "output_type": "execute_result"
        }
      ],
      "source": [
        "check_even_list([1,2,3])"
      ]
    },
    {
      "cell_type": "code",
      "execution_count": null,
      "metadata": {
        "id": "g5r-90g_LfBb",
        "outputId": "9283badb-6c1f-459d-ff0e-7c550a4f67c3"
      },
      "outputs": [
        {
          "data": {
            "text/plain": [
              "False"
            ]
          },
          "execution_count": 34,
          "metadata": {},
          "output_type": "execute_result"
        }
      ],
      "source": [
        "check_even_list([1,3,5])"
      ]
    },
    {
      "cell_type": "markdown",
      "metadata": {
        "id": "JwBA0ph1LfBb"
      },
      "source": [
        "### Return all even numbers in a list\n",
        "\n",
        "Let's add more complexity, we now will return all the even numbers in a list, otherwise return an empty list."
      ]
    },
    {
      "cell_type": "code",
      "execution_count": null,
      "metadata": {
        "collapsed": true,
        "id": "bns96d38LfBb"
      },
      "outputs": [],
      "source": [
        "def check_even_list(num_list):\n",
        "\n",
        "    even_numbers = []\n",
        "\n",
        "    # Go through each number\n",
        "    for number in num_list:\n",
        "        # Once we get a \"hit\" on an even number, we append the even number\n",
        "        if number % 2 == 0:\n",
        "            even_numbers.append(number)\n",
        "        # Don't do anything if its not even\n",
        "        else:\n",
        "            pass\n",
        "    # Notice the indentation! This ensures we run through the entire for loop\n",
        "    return even_numbers"
      ]
    },
    {
      "cell_type": "code",
      "execution_count": null,
      "metadata": {
        "id": "aSAUDuvaLfBb",
        "outputId": "cbe2c37a-40d1-475d-8c40-65921549e106"
      },
      "outputs": [
        {
          "data": {
            "text/plain": [
              "[2, 4, 6]"
            ]
          },
          "execution_count": 36,
          "metadata": {},
          "output_type": "execute_result"
        }
      ],
      "source": [
        "check_even_list([1,2,3,4,5,6])"
      ]
    },
    {
      "cell_type": "code",
      "execution_count": null,
      "metadata": {
        "id": "0P7CHw9MLfBb",
        "outputId": "f439cd46-eced-4b7f-b96b-fe6963962722"
      },
      "outputs": [
        {
          "data": {
            "text/plain": [
              "[]"
            ]
          },
          "execution_count": 37,
          "metadata": {},
          "output_type": "execute_result"
        }
      ],
      "source": [
        "check_even_list([1,3,5])"
      ]
    },
    {
      "cell_type": "markdown",
      "metadata": {
        "id": "rV75rbTXLfBc"
      },
      "source": [
        "## Returning Tuples for Unpacking"
      ]
    },
    {
      "cell_type": "markdown",
      "metadata": {
        "id": "JfrLjBmRLfBc"
      },
      "source": [
        "** Recall we can loop through a list of tuples and \"unpack\" the values within them**"
      ]
    },
    {
      "cell_type": "code",
      "execution_count": null,
      "metadata": {
        "collapsed": true,
        "id": "VsVYWCLjLfBc"
      },
      "outputs": [],
      "source": [
        "stock_prices = [('AAPL',200),('GOOG',300),('MSFT',400)]"
      ]
    },
    {
      "cell_type": "code",
      "execution_count": null,
      "metadata": {
        "id": "zQFTLxMFLfBc",
        "outputId": "26ef884b-c3d7-4585-f2e5-63d25a6b1d5d"
      },
      "outputs": [
        {
          "name": "stdout",
          "output_type": "stream",
          "text": [
            "('AAPL', 200)\n",
            "('GOOG', 300)\n",
            "('MSFT', 400)\n"
          ]
        }
      ],
      "source": [
        "for item in stock_prices:\n",
        "    print(item)"
      ]
    },
    {
      "cell_type": "code",
      "execution_count": null,
      "metadata": {
        "id": "GgWMWbl7LfBc",
        "outputId": "4583a2b2-33fe-4f1d-9b0e-6e95446a0bc2"
      },
      "outputs": [
        {
          "name": "stdout",
          "output_type": "stream",
          "text": [
            "AAPL\n",
            "GOOG\n",
            "MSFT\n"
          ]
        }
      ],
      "source": [
        "for stock,price in stock_prices:\n",
        "    print(stock)"
      ]
    },
    {
      "cell_type": "code",
      "execution_count": null,
      "metadata": {
        "id": "yepxqCIZLfBc",
        "outputId": "69f7839d-ec00-41ba-81a9-432285d164da"
      },
      "outputs": [
        {
          "name": "stdout",
          "output_type": "stream",
          "text": [
            "200\n",
            "300\n",
            "400\n"
          ]
        }
      ],
      "source": [
        "for stock,price in stock_prices:\n",
        "    print(price)"
      ]
    },
    {
      "cell_type": "markdown",
      "metadata": {
        "id": "t1nCb_jnLfBc"
      },
      "source": [
        "**Similarly, functions often return tuples, to easily return multiple results for later use.**"
      ]
    },
    {
      "cell_type": "markdown",
      "metadata": {
        "id": "QGUPl5cxLfBc"
      },
      "source": [
        "Let's imagine the following list:"
      ]
    },
    {
      "cell_type": "code",
      "execution_count": null,
      "metadata": {
        "collapsed": true,
        "id": "qGveTKr1LfBc"
      },
      "outputs": [],
      "source": [
        "work_hours = [('Abby',100),('Billy',400),('Cassie',800)]"
      ]
    },
    {
      "cell_type": "markdown",
      "metadata": {
        "id": "ZJImEBgyLfBd"
      },
      "source": [
        "The employee of the month function will return both the name and number of hours worked for the top performer (judged by number of hours worked)."
      ]
    },
    {
      "cell_type": "code",
      "execution_count": null,
      "metadata": {
        "collapsed": true,
        "id": "mBEYTR8YLfBd"
      },
      "outputs": [],
      "source": [
        "def employee_check(work_hours):\n",
        "\n",
        "    # Set some max value to intially beat, like zero hours\n",
        "    current_max = 0\n",
        "    # Set some empty value before the loop\n",
        "    employee_of_month = ''\n",
        "\n",
        "    for employee,hours in work_hours:\n",
        "        if hours > current_max:\n",
        "            current_max = hours\n",
        "            employee_of_month = employee\n",
        "        else:\n",
        "            pass\n",
        "\n",
        "    # Notice the indentation here\n",
        "    return (employee_of_month,current_max)"
      ]
    },
    {
      "cell_type": "code",
      "execution_count": null,
      "metadata": {
        "id": "j6S50N1lLfBd",
        "outputId": "63b274cf-9ed0-4035-eb5f-78012b9e921e"
      },
      "outputs": [
        {
          "data": {
            "text/plain": [
              "('Cassie', 800)"
            ]
          },
          "execution_count": 48,
          "metadata": {},
          "output_type": "execute_result"
        }
      ],
      "source": [
        "employee_check(work_hours)"
      ]
    },
    {
      "cell_type": "markdown",
      "metadata": {
        "id": "2NfFa7rbLfBd"
      },
      "source": [
        "## Interactions between functions\n",
        "\n",
        "Functions often use results from other functions, let's see a simple example through a guessing game. There will be 3 positions in the list, one of which is an 'O', a function will shuffle the list, another will take a player's guess, and finally another will check to see if it is correct. This is based on the classic carnival game of guessing which cup a red ball is under."
      ]
    },
    {
      "cell_type": "markdown",
      "metadata": {
        "id": "W7wjWOLGLfBd"
      },
      "source": [
        "**How to shuffle a list in Python**"
      ]
    },
    {
      "cell_type": "code",
      "execution_count": null,
      "metadata": {
        "collapsed": true,
        "id": "sT_ddxWBLfBd"
      },
      "outputs": [],
      "source": [
        "example = [1,2,3,4,5]"
      ]
    },
    {
      "cell_type": "code",
      "execution_count": null,
      "metadata": {
        "collapsed": true,
        "id": "X6NAoKVkLfBd"
      },
      "outputs": [],
      "source": [
        "from random import shuffle"
      ]
    },
    {
      "cell_type": "code",
      "execution_count": null,
      "metadata": {
        "collapsed": true,
        "id": "HUlQKBYxLfBd"
      },
      "outputs": [],
      "source": [
        "# Note shuffle is in-place\n",
        "shuffle(example)"
      ]
    },
    {
      "cell_type": "code",
      "execution_count": null,
      "metadata": {
        "id": "IRBxgcE6LfBd",
        "outputId": "7863442e-2d47-4b3c-ac7a-c802c4349b01"
      },
      "outputs": [
        {
          "data": {
            "text/plain": [
              "[3, 1, 4, 5, 2]"
            ]
          },
          "execution_count": 11,
          "metadata": {},
          "output_type": "execute_result"
        }
      ],
      "source": [
        "example"
      ]
    },
    {
      "cell_type": "markdown",
      "metadata": {
        "id": "5MIr9G1KLfBd"
      },
      "source": [
        "**OK, let's create our simple game**"
      ]
    },
    {
      "cell_type": "code",
      "execution_count": null,
      "metadata": {
        "collapsed": true,
        "id": "U0hbNNzdLfBe"
      },
      "outputs": [],
      "source": [
        "mylist = [' ','O',' ']"
      ]
    },
    {
      "cell_type": "code",
      "execution_count": null,
      "metadata": {
        "collapsed": true,
        "id": "HHwVIb61LfBe"
      },
      "outputs": [],
      "source": [
        "def shuffle_list(mylist):\n",
        "    # Take in list, and returned shuffle versioned\n",
        "    shuffle(mylist)\n",
        "\n",
        "    return mylist"
      ]
    },
    {
      "cell_type": "code",
      "execution_count": null,
      "metadata": {
        "id": "6Jibu5kELfBe",
        "outputId": "b81cda8b-8818-4b89-b816-9e9e406f3b13"
      },
      "outputs": [
        {
          "data": {
            "text/plain": [
              "[' ', 'O', ' ']"
            ]
          },
          "execution_count": 14,
          "metadata": {},
          "output_type": "execute_result"
        }
      ],
      "source": [
        "mylist"
      ]
    },
    {
      "cell_type": "code",
      "execution_count": null,
      "metadata": {
        "id": "uLS8ZNPXLfBe",
        "outputId": "d59ad4e2-443c-42bb-a6d2-c418c6b8b3c4"
      },
      "outputs": [
        {
          "data": {
            "text/plain": [
              "[' ', ' ', 'O']"
            ]
          },
          "execution_count": 15,
          "metadata": {},
          "output_type": "execute_result"
        }
      ],
      "source": [
        "shuffle_list(mylist)"
      ]
    },
    {
      "cell_type": "code",
      "execution_count": null,
      "metadata": {
        "collapsed": true,
        "id": "Q6mWur5ULfBe"
      },
      "outputs": [],
      "source": [
        "def player_guess():\n",
        "\n",
        "    guess = ''\n",
        "\n",
        "    while guess not in ['0','1','2']:\n",
        "\n",
        "        # Recall input() returns a string\n",
        "        guess = input(\"Pick a number: 0, 1, or 2:  \")\n",
        "\n",
        "    return int(guess)"
      ]
    },
    {
      "cell_type": "code",
      "execution_count": null,
      "metadata": {
        "id": "bdaQGO_1LfBe",
        "outputId": "0754d8b3-613f-4d80-aaab-a654866459a4"
      },
      "outputs": [
        {
          "name": "stdout",
          "output_type": "stream",
          "text": [
            "Pick a number: 0, 1, or 2:  1\n"
          ]
        },
        {
          "data": {
            "text/plain": [
              "1"
            ]
          },
          "execution_count": 24,
          "metadata": {},
          "output_type": "execute_result"
        }
      ],
      "source": [
        "player_guess()"
      ]
    },
    {
      "cell_type": "markdown",
      "metadata": {
        "id": "llxmMdxTLfBe"
      },
      "source": [
        "Now we will check the user's guess. Notice we only print here, since we have no need to save a user's guess or the shuffled list."
      ]
    },
    {
      "cell_type": "code",
      "execution_count": null,
      "metadata": {
        "collapsed": true,
        "id": "_tDYs_M8LfBe"
      },
      "outputs": [],
      "source": [
        "def check_guess(mylist,guess):\n",
        "    if mylist[guess] == 'O':\n",
        "        print('Correct Guess!')\n",
        "    else:\n",
        "        print('Wrong! Better luck next time')\n",
        "        print(mylist)"
      ]
    },
    {
      "cell_type": "markdown",
      "metadata": {
        "id": "yS5DRl9ULfBe"
      },
      "source": [
        "Now we create a little setup logic to run all the functions. Notice how they interact with each other!"
      ]
    },
    {
      "cell_type": "code",
      "execution_count": null,
      "metadata": {
        "id": "NEXT_1oqLfBe",
        "outputId": "e935f607-78e7-4da3-94f2-e9f6d8fe0e40"
      },
      "outputs": [
        {
          "name": "stdout",
          "output_type": "stream",
          "text": [
            "Pick a number: 0, 1, or 2:  1\n",
            "Wrong! Better luck next time\n",
            "[' ', ' ', 'O']\n"
          ]
        }
      ],
      "source": [
        "# Initial List\n",
        "mylist = [' ','O',' ']\n",
        "\n",
        "# Shuffle It\n",
        "mixedup_list = shuffle_list(mylist)\n",
        "\n",
        "# Get User's Guess\n",
        "guess = player_guess()\n",
        "\n",
        "# Check User's Guess\n",
        "#------------------------\n",
        "# Notice how this function takes in the input\n",
        "# based on the output of other functions!\n",
        "check_guess(mixedup_list,guess)"
      ]
    }
  ],
  "metadata": {
    "kernelspec": {
      "display_name": "Python 3",
      "language": "python",
      "name": "python3"
    },
    "language_info": {
      "codemirror_mode": {
        "name": "ipython",
        "version": 3
      },
      "file_extension": ".py",
      "mimetype": "text/x-python",
      "name": "python",
      "nbconvert_exporter": "python",
      "pygments_lexer": "ipython3",
      "version": "3.6.6"
    },
    "colab": {
      "provenance": [],
      "include_colab_link": true
    }
  },
  "nbformat": 4,
  "nbformat_minor": 0
}